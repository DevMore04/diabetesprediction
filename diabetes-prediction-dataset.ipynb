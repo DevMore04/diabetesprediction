{
 "cells": [
  {
   "cell_type": "code",
   "execution_count": 1,
   "id": "05b90756",
   "metadata": {
    "_cell_guid": "b1076dfc-b9ad-4769-8c92-a6c4dae69d19",
    "_uuid": "8f2839f25d086af736a60e9eeb907d3b93b6e0e5",
    "execution": {
     "iopub.execute_input": "2024-09-15T14:11:42.279294Z",
     "iopub.status.busy": "2024-09-15T14:11:42.278853Z",
     "iopub.status.idle": "2024-09-15T14:11:42.679145Z",
     "shell.execute_reply": "2024-09-15T14:11:42.677510Z"
    },
    "papermill": {
     "duration": 0.420353,
     "end_time": "2024-09-15T14:11:42.681632",
     "exception": false,
     "start_time": "2024-09-15T14:11:42.261279",
     "status": "completed"
    },
    "tags": []
   },
   "outputs": [
    {
     "name": "stdout",
     "output_type": "stream",
     "text": [
      "/kaggle/input/diabetes-prediction-dataset/diabetes_prediction_dataset.csv\n"
     ]
    }
   ],
   "source": [
    "# This Python 3 environment comes with many helpful analytics libraries installed\n",
    "# It is defined by the kaggle/python Docker image: https://github.com/kaggle/docker-python\n",
    "# For example, here's several helpful packages to load\n",
    "\n",
    "import numpy as np # linear algebra\n",
    "import pandas as pd # data processing, CSV file I/O (e.g. pd.read_csv)\n",
    "\n",
    "# Input data files are available in the read-only \"../input/\" directory\n",
    "# For example, running this (by clicking run or pressing Shift+Enter) will list all files under the input directory\n",
    "\n",
    "import os\n",
    "for dirname, _, filenames in os.walk('/kaggle/input'):\n",
    "    for filename in filenames:\n",
    "        print(os.path.join(dirname, filename))\n",
    "\n",
    "# You can write up to 20GB to the current directory (/kaggle/working/) that gets preserved as output when you create a version using \"Save & Run All\" \n",
    "# You can also write temporary files to /kaggle/temp/, but they won't be saved outside of the current session"
   ]
  },
  {
   "cell_type": "markdown",
   "id": "a4ed4c8b",
   "metadata": {
    "papermill": {
     "duration": 0.015419,
     "end_time": "2024-09-15T14:11:42.712746",
     "exception": false,
     "start_time": "2024-09-15T14:11:42.697327",
     "status": "completed"
    },
    "tags": []
   },
   "source": [
    "## 1.Diabetes Prediction Dataset"
   ]
  },
  {
   "cell_type": "markdown",
   "id": "67a229c4",
   "metadata": {
    "papermill": {
     "duration": 0.015316,
     "end_time": "2024-09-15T14:11:42.743280",
     "exception": false,
     "start_time": "2024-09-15T14:11:42.727964",
     "status": "completed"
    },
    "tags": []
   },
   "source": [
    "![](https://th.bing.com/th/id/OIP.vVSn223P06R5xyxzWLZt4QHaEK?w=944&h=530&rs=1&pid=ImgDetMain.jpg)"
   ]
  },
  {
   "cell_type": "markdown",
   "id": "d79bd321",
   "metadata": {
    "papermill": {
     "duration": 0.015325,
     "end_time": "2024-09-15T14:11:42.774167",
     "exception": false,
     "start_time": "2024-09-15T14:11:42.758842",
     "status": "completed"
    },
    "tags": []
   },
   "source": [
    "## 2.About Dataset:\n",
    "- The Diabetes Prediction dataset provides a comprehensive collection of medical and demographic information from patients, including their diabetes status (positive or negative). Key features include age, gender, body mass index (BMI), hypertension, heart disease, smoking history, HbA1c levels, and blood glucose levels. This dataset is valuable for building machine learning models to predict the likelihood of diabetes based on a patient's medical history and demographic data. Healthcare professionals can use it to identify at-risk patients and create personalized treatment plans, while researchers can explore the relationships between various factors and diabetes development."
   ]
  },
  {
   "cell_type": "markdown",
   "id": "526359b3",
   "metadata": {
    "papermill": {
     "duration": 0.014853,
     "end_time": "2024-09-15T14:11:42.804063",
     "exception": false,
     "start_time": "2024-09-15T14:11:42.789210",
     "status": "completed"
    },
    "tags": []
   },
   "source": [
    "## 3.Import our libraries that we need it in our dataset"
   ]
  },
  {
   "cell_type": "code",
   "execution_count": 2,
   "id": "bcfec313",
   "metadata": {
    "execution": {
     "iopub.execute_input": "2024-09-15T14:11:42.836124Z",
     "iopub.status.busy": "2024-09-15T14:11:42.835622Z",
     "iopub.status.idle": "2024-09-15T14:11:44.302625Z",
     "shell.execute_reply": "2024-09-15T14:11:44.301486Z"
    },
    "papermill": {
     "duration": 1.486021,
     "end_time": "2024-09-15T14:11:44.305206",
     "exception": false,
     "start_time": "2024-09-15T14:11:42.819185",
     "status": "completed"
    },
    "tags": []
   },
   "outputs": [],
   "source": [
    "import pandas as pd\n",
    "from sklearn import tree\n",
    "import matplotlib.pyplot as plt\n",
    "from sklearn.metrics import accuracy_score\n",
    "from sklearn.tree import DecisionTreeClassifier\n",
    "from sklearn.model_selection import GridSearchCV\n",
    "from sklearn.neighbors import KNeighborsClassifier\n",
    "from sklearn.ensemble import RandomForestClassifier\n",
    "from sklearn.model_selection import train_test_split"
   ]
  },
  {
   "cell_type": "markdown",
   "id": "2044d606",
   "metadata": {
    "papermill": {
     "duration": 0.015167,
     "end_time": "2024-09-15T14:11:44.337351",
     "exception": false,
     "start_time": "2024-09-15T14:11:44.322184",
     "status": "completed"
    },
    "tags": []
   },
   "source": [
    "## 4.Export data from csv file"
   ]
  },
  {
   "cell_type": "code",
   "execution_count": 3,
   "id": "cd3d68ea",
   "metadata": {
    "execution": {
     "iopub.execute_input": "2024-09-15T14:11:44.369351Z",
     "iopub.status.busy": "2024-09-15T14:11:44.368801Z",
     "iopub.status.idle": "2024-09-15T14:11:44.569905Z",
     "shell.execute_reply": "2024-09-15T14:11:44.568881Z"
    },
    "papermill": {
     "duration": 0.219807,
     "end_time": "2024-09-15T14:11:44.572149",
     "exception": false,
     "start_time": "2024-09-15T14:11:44.352342",
     "status": "completed"
    },
    "tags": []
   },
   "outputs": [
    {
     "data": {
      "text/html": [
       "<div>\n",
       "<style scoped>\n",
       "    .dataframe tbody tr th:only-of-type {\n",
       "        vertical-align: middle;\n",
       "    }\n",
       "\n",
       "    .dataframe tbody tr th {\n",
       "        vertical-align: top;\n",
       "    }\n",
       "\n",
       "    .dataframe thead th {\n",
       "        text-align: right;\n",
       "    }\n",
       "</style>\n",
       "<table border=\"1\" class=\"dataframe\">\n",
       "  <thead>\n",
       "    <tr style=\"text-align: right;\">\n",
       "      <th></th>\n",
       "      <th>gender</th>\n",
       "      <th>age</th>\n",
       "      <th>hypertension</th>\n",
       "      <th>heart_disease</th>\n",
       "      <th>smoking_history</th>\n",
       "      <th>bmi</th>\n",
       "      <th>HbA1c_level</th>\n",
       "      <th>blood_glucose_level</th>\n",
       "      <th>diabetes</th>\n",
       "    </tr>\n",
       "  </thead>\n",
       "  <tbody>\n",
       "    <tr>\n",
       "      <th>0</th>\n",
       "      <td>Female</td>\n",
       "      <td>80.0</td>\n",
       "      <td>0</td>\n",
       "      <td>1</td>\n",
       "      <td>never</td>\n",
       "      <td>25.19</td>\n",
       "      <td>6.6</td>\n",
       "      <td>140</td>\n",
       "      <td>0</td>\n",
       "    </tr>\n",
       "    <tr>\n",
       "      <th>1</th>\n",
       "      <td>Female</td>\n",
       "      <td>54.0</td>\n",
       "      <td>0</td>\n",
       "      <td>0</td>\n",
       "      <td>No Info</td>\n",
       "      <td>27.32</td>\n",
       "      <td>6.6</td>\n",
       "      <td>80</td>\n",
       "      <td>0</td>\n",
       "    </tr>\n",
       "    <tr>\n",
       "      <th>2</th>\n",
       "      <td>Male</td>\n",
       "      <td>28.0</td>\n",
       "      <td>0</td>\n",
       "      <td>0</td>\n",
       "      <td>never</td>\n",
       "      <td>27.32</td>\n",
       "      <td>5.7</td>\n",
       "      <td>158</td>\n",
       "      <td>0</td>\n",
       "    </tr>\n",
       "    <tr>\n",
       "      <th>3</th>\n",
       "      <td>Female</td>\n",
       "      <td>36.0</td>\n",
       "      <td>0</td>\n",
       "      <td>0</td>\n",
       "      <td>current</td>\n",
       "      <td>23.45</td>\n",
       "      <td>5.0</td>\n",
       "      <td>155</td>\n",
       "      <td>0</td>\n",
       "    </tr>\n",
       "    <tr>\n",
       "      <th>4</th>\n",
       "      <td>Male</td>\n",
       "      <td>76.0</td>\n",
       "      <td>1</td>\n",
       "      <td>1</td>\n",
       "      <td>current</td>\n",
       "      <td>20.14</td>\n",
       "      <td>4.8</td>\n",
       "      <td>155</td>\n",
       "      <td>0</td>\n",
       "    </tr>\n",
       "    <tr>\n",
       "      <th>...</th>\n",
       "      <td>...</td>\n",
       "      <td>...</td>\n",
       "      <td>...</td>\n",
       "      <td>...</td>\n",
       "      <td>...</td>\n",
       "      <td>...</td>\n",
       "      <td>...</td>\n",
       "      <td>...</td>\n",
       "      <td>...</td>\n",
       "    </tr>\n",
       "    <tr>\n",
       "      <th>99995</th>\n",
       "      <td>Female</td>\n",
       "      <td>80.0</td>\n",
       "      <td>0</td>\n",
       "      <td>0</td>\n",
       "      <td>No Info</td>\n",
       "      <td>27.32</td>\n",
       "      <td>6.2</td>\n",
       "      <td>90</td>\n",
       "      <td>0</td>\n",
       "    </tr>\n",
       "    <tr>\n",
       "      <th>99996</th>\n",
       "      <td>Female</td>\n",
       "      <td>2.0</td>\n",
       "      <td>0</td>\n",
       "      <td>0</td>\n",
       "      <td>No Info</td>\n",
       "      <td>17.37</td>\n",
       "      <td>6.5</td>\n",
       "      <td>100</td>\n",
       "      <td>0</td>\n",
       "    </tr>\n",
       "    <tr>\n",
       "      <th>99997</th>\n",
       "      <td>Male</td>\n",
       "      <td>66.0</td>\n",
       "      <td>0</td>\n",
       "      <td>0</td>\n",
       "      <td>former</td>\n",
       "      <td>27.83</td>\n",
       "      <td>5.7</td>\n",
       "      <td>155</td>\n",
       "      <td>0</td>\n",
       "    </tr>\n",
       "    <tr>\n",
       "      <th>99998</th>\n",
       "      <td>Female</td>\n",
       "      <td>24.0</td>\n",
       "      <td>0</td>\n",
       "      <td>0</td>\n",
       "      <td>never</td>\n",
       "      <td>35.42</td>\n",
       "      <td>4.0</td>\n",
       "      <td>100</td>\n",
       "      <td>0</td>\n",
       "    </tr>\n",
       "    <tr>\n",
       "      <th>99999</th>\n",
       "      <td>Female</td>\n",
       "      <td>57.0</td>\n",
       "      <td>0</td>\n",
       "      <td>0</td>\n",
       "      <td>current</td>\n",
       "      <td>22.43</td>\n",
       "      <td>6.6</td>\n",
       "      <td>90</td>\n",
       "      <td>0</td>\n",
       "    </tr>\n",
       "  </tbody>\n",
       "</table>\n",
       "<p>100000 rows × 9 columns</p>\n",
       "</div>"
      ],
      "text/plain": [
       "       gender   age  hypertension  heart_disease smoking_history    bmi  \\\n",
       "0      Female  80.0             0              1           never  25.19   \n",
       "1      Female  54.0             0              0         No Info  27.32   \n",
       "2        Male  28.0             0              0           never  27.32   \n",
       "3      Female  36.0             0              0         current  23.45   \n",
       "4        Male  76.0             1              1         current  20.14   \n",
       "...       ...   ...           ...            ...             ...    ...   \n",
       "99995  Female  80.0             0              0         No Info  27.32   \n",
       "99996  Female   2.0             0              0         No Info  17.37   \n",
       "99997    Male  66.0             0              0          former  27.83   \n",
       "99998  Female  24.0             0              0           never  35.42   \n",
       "99999  Female  57.0             0              0         current  22.43   \n",
       "\n",
       "       HbA1c_level  blood_glucose_level  diabetes  \n",
       "0              6.6                  140         0  \n",
       "1              6.6                   80         0  \n",
       "2              5.7                  158         0  \n",
       "3              5.0                  155         0  \n",
       "4              4.8                  155         0  \n",
       "...            ...                  ...       ...  \n",
       "99995          6.2                   90         0  \n",
       "99996          6.5                  100         0  \n",
       "99997          5.7                  155         0  \n",
       "99998          4.0                  100         0  \n",
       "99999          6.6                   90         0  \n",
       "\n",
       "[100000 rows x 9 columns]"
      ]
     },
     "execution_count": 3,
     "metadata": {},
     "output_type": "execute_result"
    }
   ],
   "source": [
    "df = pd.read_csv('/kaggle/input/diabetes-prediction-dataset/diabetes_prediction_dataset.csv')\n",
    "df"
   ]
  },
  {
   "cell_type": "markdown",
   "id": "efe2f98e",
   "metadata": {
    "papermill": {
     "duration": 0.015443,
     "end_time": "2024-09-15T14:11:44.603103",
     "exception": false,
     "start_time": "2024-09-15T14:11:44.587660",
     "status": "completed"
    },
    "tags": []
   },
   "source": [
    "- After we makeing export to our data we see there are 100000 rows and 9 columns\n",
    "- In every time we need to check if there are a null values or duolicated values an makeing action with that "
   ]
  },
  {
   "cell_type": "markdown",
   "id": "67f286d6",
   "metadata": {
    "papermill": {
     "duration": 0.015142,
     "end_time": "2024-09-15T14:11:44.633725",
     "exception": false,
     "start_time": "2024-09-15T14:11:44.618583",
     "status": "completed"
    },
    "tags": []
   },
   "source": [
    "## 5.Checking type of data"
   ]
  },
  {
   "cell_type": "code",
   "execution_count": 4,
   "id": "ed3fa74d",
   "metadata": {
    "execution": {
     "iopub.execute_input": "2024-09-15T14:11:44.666139Z",
     "iopub.status.busy": "2024-09-15T14:11:44.665734Z",
     "iopub.status.idle": "2024-09-15T14:11:44.696230Z",
     "shell.execute_reply": "2024-09-15T14:11:44.695170Z"
    },
    "papermill": {
     "duration": 0.049571,
     "end_time": "2024-09-15T14:11:44.698722",
     "exception": false,
     "start_time": "2024-09-15T14:11:44.649151",
     "status": "completed"
    },
    "tags": []
   },
   "outputs": [
    {
     "name": "stdout",
     "output_type": "stream",
     "text": [
      "<class 'pandas.core.frame.DataFrame'>\n",
      "RangeIndex: 100000 entries, 0 to 99999\n",
      "Data columns (total 9 columns):\n",
      " #   Column               Non-Null Count   Dtype  \n",
      "---  ------               --------------   -----  \n",
      " 0   gender               100000 non-null  object \n",
      " 1   age                  100000 non-null  float64\n",
      " 2   hypertension         100000 non-null  int64  \n",
      " 3   heart_disease        100000 non-null  int64  \n",
      " 4   smoking_history      100000 non-null  object \n",
      " 5   bmi                  100000 non-null  float64\n",
      " 6   HbA1c_level          100000 non-null  float64\n",
      " 7   blood_glucose_level  100000 non-null  int64  \n",
      " 8   diabetes             100000 non-null  int64  \n",
      "dtypes: float64(3), int64(4), object(2)\n",
      "memory usage: 6.9+ MB\n"
     ]
    }
   ],
   "source": [
    "df.info()"
   ]
  },
  {
   "cell_type": "markdown",
   "id": "e1caddf1",
   "metadata": {
    "papermill": {
     "duration": 0.015345,
     "end_time": "2024-09-15T14:11:44.729904",
     "exception": false,
     "start_time": "2024-09-15T14:11:44.714559",
     "status": "completed"
    },
    "tags": []
   },
   "source": [
    "![](https://thumbs.dreamstime.com/b/new-information-ribbon-isolated-band-sign-banner-189708828.jpg)"
   ]
  },
  {
   "cell_type": "markdown",
   "id": "1b600bad",
   "metadata": {
    "papermill": {
     "duration": 0.015148,
     "end_time": "2024-09-15T14:11:44.760512",
     "exception": false,
     "start_time": "2024-09-15T14:11:44.745364",
     "status": "completed"
    },
    "tags": []
   },
   "source": [
    "- If we see in Our Data we find some columns need convert to numeric columns\n",
    "- And an extra information we see there are not null values in our columns , Every column has the same number , Any way we will checking if there are a null values or not"
   ]
  },
  {
   "cell_type": "markdown",
   "id": "9d9c948b",
   "metadata": {
    "papermill": {
     "duration": 0.014989,
     "end_time": "2024-09-15T14:11:44.790786",
     "exception": false,
     "start_time": "2024-09-15T14:11:44.775797",
     "status": "completed"
    },
    "tags": []
   },
   "source": [
    "## 6.Null values"
   ]
  },
  {
   "cell_type": "code",
   "execution_count": 5,
   "id": "77bf2001",
   "metadata": {
    "execution": {
     "iopub.execute_input": "2024-09-15T14:11:44.823352Z",
     "iopub.status.busy": "2024-09-15T14:11:44.822911Z",
     "iopub.status.idle": "2024-09-15T14:11:44.842276Z",
     "shell.execute_reply": "2024-09-15T14:11:44.841250Z"
    },
    "papermill": {
     "duration": 0.038177,
     "end_time": "2024-09-15T14:11:44.844502",
     "exception": false,
     "start_time": "2024-09-15T14:11:44.806325",
     "status": "completed"
    },
    "tags": []
   },
   "outputs": [
    {
     "data": {
      "text/plain": [
       "gender                 0\n",
       "age                    0\n",
       "hypertension           0\n",
       "heart_disease          0\n",
       "smoking_history        0\n",
       "bmi                    0\n",
       "HbA1c_level            0\n",
       "blood_glucose_level    0\n",
       "diabetes               0\n",
       "dtype: int64"
      ]
     },
     "execution_count": 5,
     "metadata": {},
     "output_type": "execute_result"
    }
   ],
   "source": [
    "df.isnull().sum()"
   ]
  },
  {
   "cell_type": "markdown",
   "id": "f775b891",
   "metadata": {
    "papermill": {
     "duration": 0.015229,
     "end_time": "2024-09-15T14:11:44.875414",
     "exception": false,
     "start_time": "2024-09-15T14:11:44.860185",
     "status": "completed"
    },
    "tags": []
   },
   "source": [
    "- As we know from the first we do not have a null values from info order"
   ]
  },
  {
   "cell_type": "markdown",
   "id": "dc94eb9f",
   "metadata": {
    "papermill": {
     "duration": 0.01511,
     "end_time": "2024-09-15T14:11:44.905974",
     "exception": false,
     "start_time": "2024-09-15T14:11:44.890864",
     "status": "completed"
    },
    "tags": []
   },
   "source": [
    "## 7.Duplicated Values"
   ]
  },
  {
   "cell_type": "code",
   "execution_count": 6,
   "id": "b8f7ef6e",
   "metadata": {
    "execution": {
     "iopub.execute_input": "2024-09-15T14:11:44.938832Z",
     "iopub.status.busy": "2024-09-15T14:11:44.938438Z",
     "iopub.status.idle": "2024-09-15T14:11:44.972422Z",
     "shell.execute_reply": "2024-09-15T14:11:44.971182Z"
    },
    "papermill": {
     "duration": 0.05302,
     "end_time": "2024-09-15T14:11:44.974672",
     "exception": false,
     "start_time": "2024-09-15T14:11:44.921652",
     "status": "completed"
    },
    "tags": []
   },
   "outputs": [
    {
     "data": {
      "text/plain": [
       "3854"
      ]
     },
     "execution_count": 6,
     "metadata": {},
     "output_type": "execute_result"
    }
   ],
   "source": [
    "df.duplicated().sum()"
   ]
  },
  {
   "cell_type": "markdown",
   "id": "77561ce5",
   "metadata": {
    "papermill": {
     "duration": 0.015542,
     "end_time": "2024-09-15T14:11:45.006361",
     "exception": false,
     "start_time": "2024-09-15T14:11:44.990819",
     "status": "completed"
    },
    "tags": []
   },
   "source": [
    "- Afetr we are checking duplicated values we need to droped it"
   ]
  },
  {
   "cell_type": "code",
   "execution_count": 7,
   "id": "fafea86b",
   "metadata": {
    "execution": {
     "iopub.execute_input": "2024-09-15T14:11:45.039052Z",
     "iopub.status.busy": "2024-09-15T14:11:45.038657Z",
     "iopub.status.idle": "2024-09-15T14:11:45.076413Z",
     "shell.execute_reply": "2024-09-15T14:11:45.075473Z"
    },
    "papermill": {
     "duration": 0.056996,
     "end_time": "2024-09-15T14:11:45.078947",
     "exception": false,
     "start_time": "2024-09-15T14:11:45.021951",
     "status": "completed"
    },
    "tags": []
   },
   "outputs": [],
   "source": [
    "df.drop_duplicates(inplace=True)"
   ]
  },
  {
   "cell_type": "markdown",
   "id": "6bf7c9e2",
   "metadata": {
    "papermill": {
     "duration": 0.015268,
     "end_time": "2024-09-15T14:11:45.110183",
     "exception": false,
     "start_time": "2024-09-15T14:11:45.094915",
     "status": "completed"
    },
    "tags": []
   },
   "source": [
    "- To make suer we are droped our values must chechking our data frame"
   ]
  },
  {
   "cell_type": "code",
   "execution_count": 8,
   "id": "9fea9503",
   "metadata": {
    "execution": {
     "iopub.execute_input": "2024-09-15T14:11:45.143010Z",
     "iopub.status.busy": "2024-09-15T14:11:45.142612Z",
     "iopub.status.idle": "2024-09-15T14:11:45.158895Z",
     "shell.execute_reply": "2024-09-15T14:11:45.157935Z"
    },
    "papermill": {
     "duration": 0.035071,
     "end_time": "2024-09-15T14:11:45.160904",
     "exception": false,
     "start_time": "2024-09-15T14:11:45.125833",
     "status": "completed"
    },
    "tags": []
   },
   "outputs": [
    {
     "data": {
      "text/html": [
       "<div>\n",
       "<style scoped>\n",
       "    .dataframe tbody tr th:only-of-type {\n",
       "        vertical-align: middle;\n",
       "    }\n",
       "\n",
       "    .dataframe tbody tr th {\n",
       "        vertical-align: top;\n",
       "    }\n",
       "\n",
       "    .dataframe thead th {\n",
       "        text-align: right;\n",
       "    }\n",
       "</style>\n",
       "<table border=\"1\" class=\"dataframe\">\n",
       "  <thead>\n",
       "    <tr style=\"text-align: right;\">\n",
       "      <th></th>\n",
       "      <th>gender</th>\n",
       "      <th>age</th>\n",
       "      <th>hypertension</th>\n",
       "      <th>heart_disease</th>\n",
       "      <th>smoking_history</th>\n",
       "      <th>bmi</th>\n",
       "      <th>HbA1c_level</th>\n",
       "      <th>blood_glucose_level</th>\n",
       "      <th>diabetes</th>\n",
       "    </tr>\n",
       "  </thead>\n",
       "  <tbody>\n",
       "    <tr>\n",
       "      <th>0</th>\n",
       "      <td>Female</td>\n",
       "      <td>80.0</td>\n",
       "      <td>0</td>\n",
       "      <td>1</td>\n",
       "      <td>never</td>\n",
       "      <td>25.19</td>\n",
       "      <td>6.6</td>\n",
       "      <td>140</td>\n",
       "      <td>0</td>\n",
       "    </tr>\n",
       "    <tr>\n",
       "      <th>1</th>\n",
       "      <td>Female</td>\n",
       "      <td>54.0</td>\n",
       "      <td>0</td>\n",
       "      <td>0</td>\n",
       "      <td>No Info</td>\n",
       "      <td>27.32</td>\n",
       "      <td>6.6</td>\n",
       "      <td>80</td>\n",
       "      <td>0</td>\n",
       "    </tr>\n",
       "    <tr>\n",
       "      <th>2</th>\n",
       "      <td>Male</td>\n",
       "      <td>28.0</td>\n",
       "      <td>0</td>\n",
       "      <td>0</td>\n",
       "      <td>never</td>\n",
       "      <td>27.32</td>\n",
       "      <td>5.7</td>\n",
       "      <td>158</td>\n",
       "      <td>0</td>\n",
       "    </tr>\n",
       "    <tr>\n",
       "      <th>3</th>\n",
       "      <td>Female</td>\n",
       "      <td>36.0</td>\n",
       "      <td>0</td>\n",
       "      <td>0</td>\n",
       "      <td>current</td>\n",
       "      <td>23.45</td>\n",
       "      <td>5.0</td>\n",
       "      <td>155</td>\n",
       "      <td>0</td>\n",
       "    </tr>\n",
       "    <tr>\n",
       "      <th>4</th>\n",
       "      <td>Male</td>\n",
       "      <td>76.0</td>\n",
       "      <td>1</td>\n",
       "      <td>1</td>\n",
       "      <td>current</td>\n",
       "      <td>20.14</td>\n",
       "      <td>4.8</td>\n",
       "      <td>155</td>\n",
       "      <td>0</td>\n",
       "    </tr>\n",
       "    <tr>\n",
       "      <th>...</th>\n",
       "      <td>...</td>\n",
       "      <td>...</td>\n",
       "      <td>...</td>\n",
       "      <td>...</td>\n",
       "      <td>...</td>\n",
       "      <td>...</td>\n",
       "      <td>...</td>\n",
       "      <td>...</td>\n",
       "      <td>...</td>\n",
       "    </tr>\n",
       "    <tr>\n",
       "      <th>99994</th>\n",
       "      <td>Female</td>\n",
       "      <td>36.0</td>\n",
       "      <td>0</td>\n",
       "      <td>0</td>\n",
       "      <td>No Info</td>\n",
       "      <td>24.60</td>\n",
       "      <td>4.8</td>\n",
       "      <td>145</td>\n",
       "      <td>0</td>\n",
       "    </tr>\n",
       "    <tr>\n",
       "      <th>99996</th>\n",
       "      <td>Female</td>\n",
       "      <td>2.0</td>\n",
       "      <td>0</td>\n",
       "      <td>0</td>\n",
       "      <td>No Info</td>\n",
       "      <td>17.37</td>\n",
       "      <td>6.5</td>\n",
       "      <td>100</td>\n",
       "      <td>0</td>\n",
       "    </tr>\n",
       "    <tr>\n",
       "      <th>99997</th>\n",
       "      <td>Male</td>\n",
       "      <td>66.0</td>\n",
       "      <td>0</td>\n",
       "      <td>0</td>\n",
       "      <td>former</td>\n",
       "      <td>27.83</td>\n",
       "      <td>5.7</td>\n",
       "      <td>155</td>\n",
       "      <td>0</td>\n",
       "    </tr>\n",
       "    <tr>\n",
       "      <th>99998</th>\n",
       "      <td>Female</td>\n",
       "      <td>24.0</td>\n",
       "      <td>0</td>\n",
       "      <td>0</td>\n",
       "      <td>never</td>\n",
       "      <td>35.42</td>\n",
       "      <td>4.0</td>\n",
       "      <td>100</td>\n",
       "      <td>0</td>\n",
       "    </tr>\n",
       "    <tr>\n",
       "      <th>99999</th>\n",
       "      <td>Female</td>\n",
       "      <td>57.0</td>\n",
       "      <td>0</td>\n",
       "      <td>0</td>\n",
       "      <td>current</td>\n",
       "      <td>22.43</td>\n",
       "      <td>6.6</td>\n",
       "      <td>90</td>\n",
       "      <td>0</td>\n",
       "    </tr>\n",
       "  </tbody>\n",
       "</table>\n",
       "<p>96146 rows × 9 columns</p>\n",
       "</div>"
      ],
      "text/plain": [
       "       gender   age  hypertension  heart_disease smoking_history    bmi  \\\n",
       "0      Female  80.0             0              1           never  25.19   \n",
       "1      Female  54.0             0              0         No Info  27.32   \n",
       "2        Male  28.0             0              0           never  27.32   \n",
       "3      Female  36.0             0              0         current  23.45   \n",
       "4        Male  76.0             1              1         current  20.14   \n",
       "...       ...   ...           ...            ...             ...    ...   \n",
       "99994  Female  36.0             0              0         No Info  24.60   \n",
       "99996  Female   2.0             0              0         No Info  17.37   \n",
       "99997    Male  66.0             0              0          former  27.83   \n",
       "99998  Female  24.0             0              0           never  35.42   \n",
       "99999  Female  57.0             0              0         current  22.43   \n",
       "\n",
       "       HbA1c_level  blood_glucose_level  diabetes  \n",
       "0              6.6                  140         0  \n",
       "1              6.6                   80         0  \n",
       "2              5.7                  158         0  \n",
       "3              5.0                  155         0  \n",
       "4              4.8                  155         0  \n",
       "...            ...                  ...       ...  \n",
       "99994          4.8                  145         0  \n",
       "99996          6.5                  100         0  \n",
       "99997          5.7                  155         0  \n",
       "99998          4.0                  100         0  \n",
       "99999          6.6                   90         0  \n",
       "\n",
       "[96146 rows x 9 columns]"
      ]
     },
     "execution_count": 8,
     "metadata": {},
     "output_type": "execute_result"
    }
   ],
   "source": [
    "df"
   ]
  },
  {
   "cell_type": "markdown",
   "id": "24eb6f2e",
   "metadata": {
    "papermill": {
     "duration": 0.015859,
     "end_time": "2024-09-15T14:11:45.193219",
     "exception": false,
     "start_time": "2024-09-15T14:11:45.177360",
     "status": "completed"
    },
    "tags": []
   },
   "source": [
    "![](https://aai.gov.ie/images/2019/03/13/informationforprospectiveadopters.jpg)"
   ]
  },
  {
   "cell_type": "markdown",
   "id": "7dc3ffba",
   "metadata": {
    "papermill": {
     "duration": 0.015689,
     "end_time": "2024-09-15T14:11:45.224786",
     "exception": false,
     "start_time": "2024-09-15T14:11:45.209097",
     "status": "completed"
    },
    "tags": []
   },
   "source": [
    "- As we noticed now we have 96146 rows from 100000 and 9 colmuns\n",
    "- That is meaning the values was in the rows and we dropped it , The columns values stay as before"
   ]
  },
  {
   "cell_type": "markdown",
   "id": "10f4e1dc",
   "metadata": {
    "papermill": {
     "duration": 0.015658,
     "end_time": "2024-09-15T14:11:45.256387",
     "exception": false,
     "start_time": "2024-09-15T14:11:45.240729",
     "status": "completed"
    },
    "tags": []
   },
   "source": [
    "## 8.Convert Columns to numeric values"
   ]
  },
  {
   "cell_type": "markdown",
   "id": "371301de",
   "metadata": {
    "papermill": {
     "duration": 0.015704,
     "end_time": "2024-09-15T14:11:45.287990",
     "exception": false,
     "start_time": "2024-09-15T14:11:45.272286",
     "status": "completed"
    },
    "tags": []
   },
   "source": [
    "- we noticed from the first there are some columns need convert to numeric columns beacues it is an object columns\n",
    "- And in this case we heve tow columns need convert\n",
    "- At the first we need to see the columns content"
   ]
  },
  {
   "cell_type": "code",
   "execution_count": 9,
   "id": "5416083a",
   "metadata": {
    "execution": {
     "iopub.execute_input": "2024-09-15T14:11:45.323447Z",
     "iopub.status.busy": "2024-09-15T14:11:45.322495Z",
     "iopub.status.idle": "2024-09-15T14:11:45.337084Z",
     "shell.execute_reply": "2024-09-15T14:11:45.336078Z"
    },
    "papermill": {
     "duration": 0.035088,
     "end_time": "2024-09-15T14:11:45.339196",
     "exception": false,
     "start_time": "2024-09-15T14:11:45.304108",
     "status": "completed"
    },
    "tags": []
   },
   "outputs": [
    {
     "data": {
      "text/plain": [
       "gender\n",
       "Female    56161\n",
       "Male      39967\n",
       "Other        18\n",
       "Name: count, dtype: int64"
      ]
     },
     "execution_count": 9,
     "metadata": {},
     "output_type": "execute_result"
    }
   ],
   "source": [
    "df['gender'].value_counts()"
   ]
  },
  {
   "cell_type": "code",
   "execution_count": 10,
   "id": "c833c32e",
   "metadata": {
    "execution": {
     "iopub.execute_input": "2024-09-15T14:11:45.373419Z",
     "iopub.status.busy": "2024-09-15T14:11:45.372626Z",
     "iopub.status.idle": "2024-09-15T14:11:45.386964Z",
     "shell.execute_reply": "2024-09-15T14:11:45.386003Z"
    },
    "papermill": {
     "duration": 0.033714,
     "end_time": "2024-09-15T14:11:45.389064",
     "exception": false,
     "start_time": "2024-09-15T14:11:45.355350",
     "status": "completed"
    },
    "tags": []
   },
   "outputs": [
    {
     "data": {
      "text/plain": [
       "smoking_history\n",
       "never          34398\n",
       "No Info        32887\n",
       "former          9299\n",
       "current         9197\n",
       "not current     6367\n",
       "ever            3998\n",
       "Name: count, dtype: int64"
      ]
     },
     "execution_count": 10,
     "metadata": {},
     "output_type": "execute_result"
    }
   ],
   "source": [
    "df['smoking_history'].value_counts()"
   ]
  },
  {
   "cell_type": "code",
   "execution_count": 11,
   "id": "5477b250",
   "metadata": {
    "execution": {
     "iopub.execute_input": "2024-09-15T14:11:45.423063Z",
     "iopub.status.busy": "2024-09-15T14:11:45.422673Z",
     "iopub.status.idle": "2024-09-15T14:11:45.452840Z",
     "shell.execute_reply": "2024-09-15T14:11:45.451967Z"
    },
    "papermill": {
     "duration": 0.049997,
     "end_time": "2024-09-15T14:11:45.455208",
     "exception": false,
     "start_time": "2024-09-15T14:11:45.405211",
     "status": "completed"
    },
    "tags": []
   },
   "outputs": [],
   "source": [
    "df = pd.get_dummies(df,columns=['gender'],drop_first=True)"
   ]
  },
  {
   "cell_type": "code",
   "execution_count": 12,
   "id": "b7597e40",
   "metadata": {
    "execution": {
     "iopub.execute_input": "2024-09-15T14:11:45.489659Z",
     "iopub.status.busy": "2024-09-15T14:11:45.489228Z",
     "iopub.status.idle": "2024-09-15T14:11:45.513068Z",
     "shell.execute_reply": "2024-09-15T14:11:45.512131Z"
    },
    "papermill": {
     "duration": 0.043735,
     "end_time": "2024-09-15T14:11:45.515453",
     "exception": false,
     "start_time": "2024-09-15T14:11:45.471718",
     "status": "completed"
    },
    "tags": []
   },
   "outputs": [],
   "source": [
    "df = pd.get_dummies(df,columns=['smoking_history'],drop_first=True)"
   ]
  },
  {
   "cell_type": "markdown",
   "id": "99676add",
   "metadata": {
    "papermill": {
     "duration": 0.015941,
     "end_time": "2024-09-15T14:11:45.547678",
     "exception": false,
     "start_time": "2024-09-15T14:11:45.531737",
     "status": "completed"
    },
    "tags": []
   },
   "source": [
    "- After convert our columns to numeric columns we must checking our data again"
   ]
  },
  {
   "cell_type": "code",
   "execution_count": 13,
   "id": "12546d69",
   "metadata": {
    "execution": {
     "iopub.execute_input": "2024-09-15T14:11:45.581413Z",
     "iopub.status.busy": "2024-09-15T14:11:45.580992Z",
     "iopub.status.idle": "2024-09-15T14:11:45.601149Z",
     "shell.execute_reply": "2024-09-15T14:11:45.600157Z"
    },
    "papermill": {
     "duration": 0.039469,
     "end_time": "2024-09-15T14:11:45.603173",
     "exception": false,
     "start_time": "2024-09-15T14:11:45.563704",
     "status": "completed"
    },
    "tags": []
   },
   "outputs": [
    {
     "data": {
      "text/html": [
       "<div>\n",
       "<style scoped>\n",
       "    .dataframe tbody tr th:only-of-type {\n",
       "        vertical-align: middle;\n",
       "    }\n",
       "\n",
       "    .dataframe tbody tr th {\n",
       "        vertical-align: top;\n",
       "    }\n",
       "\n",
       "    .dataframe thead th {\n",
       "        text-align: right;\n",
       "    }\n",
       "</style>\n",
       "<table border=\"1\" class=\"dataframe\">\n",
       "  <thead>\n",
       "    <tr style=\"text-align: right;\">\n",
       "      <th></th>\n",
       "      <th>age</th>\n",
       "      <th>hypertension</th>\n",
       "      <th>heart_disease</th>\n",
       "      <th>bmi</th>\n",
       "      <th>HbA1c_level</th>\n",
       "      <th>blood_glucose_level</th>\n",
       "      <th>diabetes</th>\n",
       "      <th>gender_Male</th>\n",
       "      <th>gender_Other</th>\n",
       "      <th>smoking_history_current</th>\n",
       "      <th>smoking_history_ever</th>\n",
       "      <th>smoking_history_former</th>\n",
       "      <th>smoking_history_never</th>\n",
       "      <th>smoking_history_not current</th>\n",
       "    </tr>\n",
       "  </thead>\n",
       "  <tbody>\n",
       "    <tr>\n",
       "      <th>0</th>\n",
       "      <td>80.0</td>\n",
       "      <td>0</td>\n",
       "      <td>1</td>\n",
       "      <td>25.19</td>\n",
       "      <td>6.6</td>\n",
       "      <td>140</td>\n",
       "      <td>0</td>\n",
       "      <td>False</td>\n",
       "      <td>False</td>\n",
       "      <td>False</td>\n",
       "      <td>False</td>\n",
       "      <td>False</td>\n",
       "      <td>True</td>\n",
       "      <td>False</td>\n",
       "    </tr>\n",
       "    <tr>\n",
       "      <th>1</th>\n",
       "      <td>54.0</td>\n",
       "      <td>0</td>\n",
       "      <td>0</td>\n",
       "      <td>27.32</td>\n",
       "      <td>6.6</td>\n",
       "      <td>80</td>\n",
       "      <td>0</td>\n",
       "      <td>False</td>\n",
       "      <td>False</td>\n",
       "      <td>False</td>\n",
       "      <td>False</td>\n",
       "      <td>False</td>\n",
       "      <td>False</td>\n",
       "      <td>False</td>\n",
       "    </tr>\n",
       "    <tr>\n",
       "      <th>2</th>\n",
       "      <td>28.0</td>\n",
       "      <td>0</td>\n",
       "      <td>0</td>\n",
       "      <td>27.32</td>\n",
       "      <td>5.7</td>\n",
       "      <td>158</td>\n",
       "      <td>0</td>\n",
       "      <td>True</td>\n",
       "      <td>False</td>\n",
       "      <td>False</td>\n",
       "      <td>False</td>\n",
       "      <td>False</td>\n",
       "      <td>True</td>\n",
       "      <td>False</td>\n",
       "    </tr>\n",
       "    <tr>\n",
       "      <th>3</th>\n",
       "      <td>36.0</td>\n",
       "      <td>0</td>\n",
       "      <td>0</td>\n",
       "      <td>23.45</td>\n",
       "      <td>5.0</td>\n",
       "      <td>155</td>\n",
       "      <td>0</td>\n",
       "      <td>False</td>\n",
       "      <td>False</td>\n",
       "      <td>True</td>\n",
       "      <td>False</td>\n",
       "      <td>False</td>\n",
       "      <td>False</td>\n",
       "      <td>False</td>\n",
       "    </tr>\n",
       "    <tr>\n",
       "      <th>4</th>\n",
       "      <td>76.0</td>\n",
       "      <td>1</td>\n",
       "      <td>1</td>\n",
       "      <td>20.14</td>\n",
       "      <td>4.8</td>\n",
       "      <td>155</td>\n",
       "      <td>0</td>\n",
       "      <td>True</td>\n",
       "      <td>False</td>\n",
       "      <td>True</td>\n",
       "      <td>False</td>\n",
       "      <td>False</td>\n",
       "      <td>False</td>\n",
       "      <td>False</td>\n",
       "    </tr>\n",
       "    <tr>\n",
       "      <th>...</th>\n",
       "      <td>...</td>\n",
       "      <td>...</td>\n",
       "      <td>...</td>\n",
       "      <td>...</td>\n",
       "      <td>...</td>\n",
       "      <td>...</td>\n",
       "      <td>...</td>\n",
       "      <td>...</td>\n",
       "      <td>...</td>\n",
       "      <td>...</td>\n",
       "      <td>...</td>\n",
       "      <td>...</td>\n",
       "      <td>...</td>\n",
       "      <td>...</td>\n",
       "    </tr>\n",
       "    <tr>\n",
       "      <th>99994</th>\n",
       "      <td>36.0</td>\n",
       "      <td>0</td>\n",
       "      <td>0</td>\n",
       "      <td>24.60</td>\n",
       "      <td>4.8</td>\n",
       "      <td>145</td>\n",
       "      <td>0</td>\n",
       "      <td>False</td>\n",
       "      <td>False</td>\n",
       "      <td>False</td>\n",
       "      <td>False</td>\n",
       "      <td>False</td>\n",
       "      <td>False</td>\n",
       "      <td>False</td>\n",
       "    </tr>\n",
       "    <tr>\n",
       "      <th>99996</th>\n",
       "      <td>2.0</td>\n",
       "      <td>0</td>\n",
       "      <td>0</td>\n",
       "      <td>17.37</td>\n",
       "      <td>6.5</td>\n",
       "      <td>100</td>\n",
       "      <td>0</td>\n",
       "      <td>False</td>\n",
       "      <td>False</td>\n",
       "      <td>False</td>\n",
       "      <td>False</td>\n",
       "      <td>False</td>\n",
       "      <td>False</td>\n",
       "      <td>False</td>\n",
       "    </tr>\n",
       "    <tr>\n",
       "      <th>99997</th>\n",
       "      <td>66.0</td>\n",
       "      <td>0</td>\n",
       "      <td>0</td>\n",
       "      <td>27.83</td>\n",
       "      <td>5.7</td>\n",
       "      <td>155</td>\n",
       "      <td>0</td>\n",
       "      <td>True</td>\n",
       "      <td>False</td>\n",
       "      <td>False</td>\n",
       "      <td>False</td>\n",
       "      <td>True</td>\n",
       "      <td>False</td>\n",
       "      <td>False</td>\n",
       "    </tr>\n",
       "    <tr>\n",
       "      <th>99998</th>\n",
       "      <td>24.0</td>\n",
       "      <td>0</td>\n",
       "      <td>0</td>\n",
       "      <td>35.42</td>\n",
       "      <td>4.0</td>\n",
       "      <td>100</td>\n",
       "      <td>0</td>\n",
       "      <td>False</td>\n",
       "      <td>False</td>\n",
       "      <td>False</td>\n",
       "      <td>False</td>\n",
       "      <td>False</td>\n",
       "      <td>True</td>\n",
       "      <td>False</td>\n",
       "    </tr>\n",
       "    <tr>\n",
       "      <th>99999</th>\n",
       "      <td>57.0</td>\n",
       "      <td>0</td>\n",
       "      <td>0</td>\n",
       "      <td>22.43</td>\n",
       "      <td>6.6</td>\n",
       "      <td>90</td>\n",
       "      <td>0</td>\n",
       "      <td>False</td>\n",
       "      <td>False</td>\n",
       "      <td>True</td>\n",
       "      <td>False</td>\n",
       "      <td>False</td>\n",
       "      <td>False</td>\n",
       "      <td>False</td>\n",
       "    </tr>\n",
       "  </tbody>\n",
       "</table>\n",
       "<p>96146 rows × 14 columns</p>\n",
       "</div>"
      ],
      "text/plain": [
       "        age  hypertension  heart_disease    bmi  HbA1c_level  \\\n",
       "0      80.0             0              1  25.19          6.6   \n",
       "1      54.0             0              0  27.32          6.6   \n",
       "2      28.0             0              0  27.32          5.7   \n",
       "3      36.0             0              0  23.45          5.0   \n",
       "4      76.0             1              1  20.14          4.8   \n",
       "...     ...           ...            ...    ...          ...   \n",
       "99994  36.0             0              0  24.60          4.8   \n",
       "99996   2.0             0              0  17.37          6.5   \n",
       "99997  66.0             0              0  27.83          5.7   \n",
       "99998  24.0             0              0  35.42          4.0   \n",
       "99999  57.0             0              0  22.43          6.6   \n",
       "\n",
       "       blood_glucose_level  diabetes  gender_Male  gender_Other  \\\n",
       "0                      140         0        False         False   \n",
       "1                       80         0        False         False   \n",
       "2                      158         0         True         False   \n",
       "3                      155         0        False         False   \n",
       "4                      155         0         True         False   \n",
       "...                    ...       ...          ...           ...   \n",
       "99994                  145         0        False         False   \n",
       "99996                  100         0        False         False   \n",
       "99997                  155         0         True         False   \n",
       "99998                  100         0        False         False   \n",
       "99999                   90         0        False         False   \n",
       "\n",
       "       smoking_history_current  smoking_history_ever  smoking_history_former  \\\n",
       "0                        False                 False                   False   \n",
       "1                        False                 False                   False   \n",
       "2                        False                 False                   False   \n",
       "3                         True                 False                   False   \n",
       "4                         True                 False                   False   \n",
       "...                        ...                   ...                     ...   \n",
       "99994                    False                 False                   False   \n",
       "99996                    False                 False                   False   \n",
       "99997                    False                 False                    True   \n",
       "99998                    False                 False                   False   \n",
       "99999                     True                 False                   False   \n",
       "\n",
       "       smoking_history_never  smoking_history_not current  \n",
       "0                       True                        False  \n",
       "1                      False                        False  \n",
       "2                       True                        False  \n",
       "3                      False                        False  \n",
       "4                      False                        False  \n",
       "...                      ...                          ...  \n",
       "99994                  False                        False  \n",
       "99996                  False                        False  \n",
       "99997                  False                        False  \n",
       "99998                   True                        False  \n",
       "99999                  False                        False  \n",
       "\n",
       "[96146 rows x 14 columns]"
      ]
     },
     "execution_count": 13,
     "metadata": {},
     "output_type": "execute_result"
    }
   ],
   "source": [
    "df"
   ]
  },
  {
   "cell_type": "markdown",
   "id": "4fc781bc",
   "metadata": {
    "papermill": {
     "duration": 0.056838,
     "end_time": "2024-09-15T14:11:45.676736",
     "exception": false,
     "start_time": "2024-09-15T14:11:45.619898",
     "status": "completed"
    },
    "tags": []
   },
   "source": [
    "- in this issue the columns number are more than before now we haveing 14 columns ( before was 9 columns ) "
   ]
  },
  {
   "cell_type": "markdown",
   "id": "f89521d6",
   "metadata": {
    "papermill": {
     "duration": 0.016165,
     "end_time": "2024-09-15T14:11:45.709422",
     "exception": false,
     "start_time": "2024-09-15T14:11:45.693257",
     "status": "completed"
    },
    "tags": []
   },
   "source": [
    "## 9.Split the columns between ' x ' and ' y '"
   ]
  },
  {
   "cell_type": "code",
   "execution_count": 14,
   "id": "617beba9",
   "metadata": {
    "execution": {
     "iopub.execute_input": "2024-09-15T14:11:45.744262Z",
     "iopub.status.busy": "2024-09-15T14:11:45.743834Z",
     "iopub.status.idle": "2024-09-15T14:11:45.750514Z",
     "shell.execute_reply": "2024-09-15T14:11:45.749538Z"
    },
    "papermill": {
     "duration": 0.026603,
     "end_time": "2024-09-15T14:11:45.752609",
     "exception": false,
     "start_time": "2024-09-15T14:11:45.726006",
     "status": "completed"
    },
    "tags": []
   },
   "outputs": [],
   "source": [
    "X = df.drop(columns=['diabetes'])\n",
    "y = df['diabetes']"
   ]
  },
  {
   "cell_type": "markdown",
   "id": "da06727e",
   "metadata": {
    "papermill": {
     "duration": 0.016305,
     "end_time": "2024-09-15T14:11:45.785428",
     "exception": false,
     "start_time": "2024-09-15T14:11:45.769123",
     "status": "completed"
    },
    "tags": []
   },
   "source": [
    "![](https://th.bing.com/th/id/OIP.-KUzXj-unoac7XnxPWs_gQHaED?rs=1&pid=ImgDetMain)"
   ]
  },
  {
   "cell_type": "markdown",
   "id": "57c127a1",
   "metadata": {
    "papermill": {
     "duration": 0.016279,
     "end_time": "2024-09-15T14:11:45.818224",
     "exception": false,
     "start_time": "2024-09-15T14:11:45.801945",
     "status": "completed"
    },
    "tags": []
   },
   "source": [
    "- we have 14 columns and this number it is big so we was useing ' Drop Way ' instand of split each column to X or Y"
   ]
  },
  {
   "cell_type": "markdown",
   "id": "6108a7cb",
   "metadata": {
    "papermill": {
     "duration": 0.016335,
     "end_time": "2024-09-15T14:11:45.851057",
     "exception": false,
     "start_time": "2024-09-15T14:11:45.834722",
     "status": "completed"
    },
    "tags": []
   },
   "source": [
    "## 10.Split the values between train and test values"
   ]
  },
  {
   "cell_type": "code",
   "execution_count": 15,
   "id": "a33f599e",
   "metadata": {
    "execution": {
     "iopub.execute_input": "2024-09-15T14:11:45.886521Z",
     "iopub.status.busy": "2024-09-15T14:11:45.885693Z",
     "iopub.status.idle": "2024-09-15T14:11:45.902768Z",
     "shell.execute_reply": "2024-09-15T14:11:45.901728Z"
    },
    "papermill": {
     "duration": 0.037325,
     "end_time": "2024-09-15T14:11:45.905043",
     "exception": false,
     "start_time": "2024-09-15T14:11:45.867718",
     "status": "completed"
    },
    "tags": []
   },
   "outputs": [],
   "source": [
    "X_train , X_test , y_train , y_test = train_test_split(X,y,test_size=.20)"
   ]
  },
  {
   "cell_type": "markdown",
   "id": "01bf00be",
   "metadata": {
    "papermill": {
     "duration": 0.016377,
     "end_time": "2024-09-15T14:11:45.938198",
     "exception": false,
     "start_time": "2024-09-15T14:11:45.921821",
     "status": "completed"
    },
    "tags": []
   },
   "source": [
    "- If we notiec here we split the values 80% to train and test\n",
    "- And keep 20% from the values after finshing the model train and test in his data (To test in this data)"
   ]
  },
  {
   "cell_type": "markdown",
   "id": "1eb45f55",
   "metadata": {
    "papermill": {
     "duration": 0.016437,
     "end_time": "2024-09-15T14:11:45.971119",
     "exception": false,
     "start_time": "2024-09-15T14:11:45.954682",
     "status": "completed"
    },
    "tags": []
   },
   "source": [
    "## 11.Building the first model"
   ]
  },
  {
   "cell_type": "code",
   "execution_count": 16,
   "id": "d993e2c6",
   "metadata": {
    "execution": {
     "iopub.execute_input": "2024-09-15T14:11:46.006664Z",
     "iopub.status.busy": "2024-09-15T14:11:46.005653Z",
     "iopub.status.idle": "2024-09-15T14:11:46.210030Z",
     "shell.execute_reply": "2024-09-15T14:11:46.209047Z"
    },
    "papermill": {
     "duration": 0.224337,
     "end_time": "2024-09-15T14:11:46.212140",
     "exception": false,
     "start_time": "2024-09-15T14:11:45.987803",
     "status": "completed"
    },
    "tags": []
   },
   "outputs": [
    {
     "data": {
      "text/html": [
       "<style>#sk-container-id-1 {color: black;background-color: white;}#sk-container-id-1 pre{padding: 0;}#sk-container-id-1 div.sk-toggleable {background-color: white;}#sk-container-id-1 label.sk-toggleable__label {cursor: pointer;display: block;width: 100%;margin-bottom: 0;padding: 0.3em;box-sizing: border-box;text-align: center;}#sk-container-id-1 label.sk-toggleable__label-arrow:before {content: \"▸\";float: left;margin-right: 0.25em;color: #696969;}#sk-container-id-1 label.sk-toggleable__label-arrow:hover:before {color: black;}#sk-container-id-1 div.sk-estimator:hover label.sk-toggleable__label-arrow:before {color: black;}#sk-container-id-1 div.sk-toggleable__content {max-height: 0;max-width: 0;overflow: hidden;text-align: left;background-color: #f0f8ff;}#sk-container-id-1 div.sk-toggleable__content pre {margin: 0.2em;color: black;border-radius: 0.25em;background-color: #f0f8ff;}#sk-container-id-1 input.sk-toggleable__control:checked~div.sk-toggleable__content {max-height: 200px;max-width: 100%;overflow: auto;}#sk-container-id-1 input.sk-toggleable__control:checked~label.sk-toggleable__label-arrow:before {content: \"▾\";}#sk-container-id-1 div.sk-estimator input.sk-toggleable__control:checked~label.sk-toggleable__label {background-color: #d4ebff;}#sk-container-id-1 div.sk-label input.sk-toggleable__control:checked~label.sk-toggleable__label {background-color: #d4ebff;}#sk-container-id-1 input.sk-hidden--visually {border: 0;clip: rect(1px 1px 1px 1px);clip: rect(1px, 1px, 1px, 1px);height: 1px;margin: -1px;overflow: hidden;padding: 0;position: absolute;width: 1px;}#sk-container-id-1 div.sk-estimator {font-family: monospace;background-color: #f0f8ff;border: 1px dotted black;border-radius: 0.25em;box-sizing: border-box;margin-bottom: 0.5em;}#sk-container-id-1 div.sk-estimator:hover {background-color: #d4ebff;}#sk-container-id-1 div.sk-parallel-item::after {content: \"\";width: 100%;border-bottom: 1px solid gray;flex-grow: 1;}#sk-container-id-1 div.sk-label:hover label.sk-toggleable__label {background-color: #d4ebff;}#sk-container-id-1 div.sk-serial::before {content: \"\";position: absolute;border-left: 1px solid gray;box-sizing: border-box;top: 0;bottom: 0;left: 50%;z-index: 0;}#sk-container-id-1 div.sk-serial {display: flex;flex-direction: column;align-items: center;background-color: white;padding-right: 0.2em;padding-left: 0.2em;position: relative;}#sk-container-id-1 div.sk-item {position: relative;z-index: 1;}#sk-container-id-1 div.sk-parallel {display: flex;align-items: stretch;justify-content: center;background-color: white;position: relative;}#sk-container-id-1 div.sk-item::before, #sk-container-id-1 div.sk-parallel-item::before {content: \"\";position: absolute;border-left: 1px solid gray;box-sizing: border-box;top: 0;bottom: 0;left: 50%;z-index: -1;}#sk-container-id-1 div.sk-parallel-item {display: flex;flex-direction: column;z-index: 1;position: relative;background-color: white;}#sk-container-id-1 div.sk-parallel-item:first-child::after {align-self: flex-end;width: 50%;}#sk-container-id-1 div.sk-parallel-item:last-child::after {align-self: flex-start;width: 50%;}#sk-container-id-1 div.sk-parallel-item:only-child::after {width: 0;}#sk-container-id-1 div.sk-dashed-wrapped {border: 1px dashed gray;margin: 0 0.4em 0.5em 0.4em;box-sizing: border-box;padding-bottom: 0.4em;background-color: white;}#sk-container-id-1 div.sk-label label {font-family: monospace;font-weight: bold;display: inline-block;line-height: 1.2em;}#sk-container-id-1 div.sk-label-container {text-align: center;}#sk-container-id-1 div.sk-container {/* jupyter's `normalize.less` sets `[hidden] { display: none; }` but bootstrap.min.css set `[hidden] { display: none !important; }` so we also need the `!important` here to be able to override the default hidden behavior on the sphinx rendered scikit-learn.org. See: https://github.com/scikit-learn/scikit-learn/issues/21755 */display: inline-block !important;position: relative;}#sk-container-id-1 div.sk-text-repr-fallback {display: none;}</style><div id=\"sk-container-id-1\" class=\"sk-top-container\"><div class=\"sk-text-repr-fallback\"><pre>KNeighborsClassifier(n_neighbors=7)</pre><b>In a Jupyter environment, please rerun this cell to show the HTML representation or trust the notebook. <br />On GitHub, the HTML representation is unable to render, please try loading this page with nbviewer.org.</b></div><div class=\"sk-container\" hidden><div class=\"sk-item\"><div class=\"sk-estimator sk-toggleable\"><input class=\"sk-toggleable__control sk-hidden--visually\" id=\"sk-estimator-id-1\" type=\"checkbox\" checked><label for=\"sk-estimator-id-1\" class=\"sk-toggleable__label sk-toggleable__label-arrow\">KNeighborsClassifier</label><div class=\"sk-toggleable__content\"><pre>KNeighborsClassifier(n_neighbors=7)</pre></div></div></div></div></div>"
      ],
      "text/plain": [
       "KNeighborsClassifier(n_neighbors=7)"
      ]
     },
     "execution_count": 16,
     "metadata": {},
     "output_type": "execute_result"
    }
   ],
   "source": [
    "model1 = KNeighborsClassifier(n_neighbors=7)\n",
    "model1.fit(X_train , y_train)"
   ]
  },
  {
   "cell_type": "markdown",
   "id": "c49c9cd2",
   "metadata": {
    "papermill": {
     "duration": 0.016686,
     "end_time": "2024-09-15T14:11:46.246041",
     "exception": false,
     "start_time": "2024-09-15T14:11:46.229355",
     "status": "completed"
    },
    "tags": []
   },
   "source": [
    "- In this stpe we are building model from type ' KNN ' ( K_Nearset Neighbor )"
   ]
  },
  {
   "cell_type": "markdown",
   "id": "4dd53a45",
   "metadata": {
    "papermill": {
     "duration": 0.01663,
     "end_time": "2024-09-15T14:11:46.279495",
     "exception": false,
     "start_time": "2024-09-15T14:11:46.262865",
     "status": "completed"
    },
    "tags": []
   },
   "source": [
    "- And here we need to predict our model"
   ]
  },
  {
   "cell_type": "code",
   "execution_count": 17,
   "id": "ae8fec48",
   "metadata": {
    "execution": {
     "iopub.execute_input": "2024-09-15T14:11:46.315613Z",
     "iopub.status.busy": "2024-09-15T14:11:46.314837Z",
     "iopub.status.idle": "2024-09-15T14:11:47.717616Z",
     "shell.execute_reply": "2024-09-15T14:11:47.716551Z"
    },
    "papermill": {
     "duration": 1.423248,
     "end_time": "2024-09-15T14:11:47.719882",
     "exception": false,
     "start_time": "2024-09-15T14:11:46.296634",
     "status": "completed"
    },
    "tags": []
   },
   "outputs": [
    {
     "data": {
      "text/plain": [
       "array([0, 0, 0, ..., 0, 0, 0])"
      ]
     },
     "execution_count": 17,
     "metadata": {},
     "output_type": "execute_result"
    }
   ],
   "source": [
    "y_pred = model1.predict(X_test)\n",
    "y_pred"
   ]
  },
  {
   "cell_type": "markdown",
   "id": "31148100",
   "metadata": {
    "papermill": {
     "duration": 0.017655,
     "end_time": "2024-09-15T14:11:47.754830",
     "exception": false,
     "start_time": "2024-09-15T14:11:47.737175",
     "status": "completed"
    },
    "tags": []
   },
   "source": [
    "- After we are building the model and makeing predict on the model we need to checking the model accuracy "
   ]
  },
  {
   "cell_type": "code",
   "execution_count": 18,
   "id": "b08ec16b",
   "metadata": {
    "execution": {
     "iopub.execute_input": "2024-09-15T14:11:47.790347Z",
     "iopub.status.busy": "2024-09-15T14:11:47.789920Z",
     "iopub.status.idle": "2024-09-15T14:11:47.800192Z",
     "shell.execute_reply": "2024-09-15T14:11:47.799233Z"
    },
    "papermill": {
     "duration": 0.030679,
     "end_time": "2024-09-15T14:11:47.802405",
     "exception": false,
     "start_time": "2024-09-15T14:11:47.771726",
     "status": "completed"
    },
    "tags": []
   },
   "outputs": [
    {
     "data": {
      "text/plain": [
       "0.9535621424856995"
      ]
     },
     "execution_count": 18,
     "metadata": {},
     "output_type": "execute_result"
    }
   ],
   "source": [
    "accuracy_score(y_test , y_pred)"
   ]
  },
  {
   "cell_type": "markdown",
   "id": "23350964",
   "metadata": {
    "papermill": {
     "duration": 0.016932,
     "end_time": "2024-09-15T14:11:47.836786",
     "exception": false,
     "start_time": "2024-09-15T14:11:47.819854",
     "status": "completed"
    },
    "tags": []
   },
   "source": [
    "- The accuracy of model it is OK"
   ]
  },
  {
   "cell_type": "markdown",
   "id": "d28223d6",
   "metadata": {
    "papermill": {
     "duration": 0.016782,
     "end_time": "2024-09-15T14:11:47.870683",
     "exception": false,
     "start_time": "2024-09-15T14:11:47.853901",
     "status": "completed"
    },
    "tags": []
   },
   "source": [
    "- Checking the best K_nearest neighbor in range 10 neighbor"
   ]
  },
  {
   "cell_type": "code",
   "execution_count": 19,
   "id": "7663f4f9",
   "metadata": {
    "execution": {
     "iopub.execute_input": "2024-09-15T14:11:47.906778Z",
     "iopub.status.busy": "2024-09-15T14:11:47.905856Z",
     "iopub.status.idle": "2024-09-15T14:11:54.243635Z",
     "shell.execute_reply": "2024-09-15T14:11:54.242420Z"
    },
    "papermill": {
     "duration": 6.35812,
     "end_time": "2024-09-15T14:11:54.245876",
     "exception": false,
     "start_time": "2024-09-15T14:11:47.887756",
     "status": "completed"
    },
    "tags": []
   },
   "outputs": [
    {
     "name": "stdout",
     "output_type": "stream",
     "text": [
      "The best k value is: 5\n"
     ]
    }
   ],
   "source": [
    "# Define the range of k values to test\n",
    "k_values = range(3,10,2)\n",
    "test_accuracies = []\n",
    "\n",
    "# Train the k-NN classifier with different values of k and evaluate on the test set\n",
    "for k in k_values:\n",
    "    knn = KNeighborsClassifier(n_neighbors=k)\n",
    "    knn.fit(X_train, y_train)  # Train the model\n",
    "    y_pred = knn.predict(X_test)  # Predict on the test set\n",
    "    accuracy = accuracy_score(y_test, y_pred)  # Calculate accuracy\n",
    "    test_accuracies.append(accuracy)\n",
    "\n",
    "# Determine the best k\n",
    "best_k = k_values[np.argmax(test_accuracies)]\n",
    "print(f\"The best k value is: {best_k}\")"
   ]
  },
  {
   "cell_type": "markdown",
   "id": "6a6a5e93",
   "metadata": {
    "papermill": {
     "duration": 0.016915,
     "end_time": "2024-09-15T14:11:54.280337",
     "exception": false,
     "start_time": "2024-09-15T14:11:54.263422",
     "status": "completed"
    },
    "tags": []
   },
   "source": [
    "- Visuleization the K"
   ]
  },
  {
   "cell_type": "code",
   "execution_count": 20,
   "id": "fc244996",
   "metadata": {
    "execution": {
     "iopub.execute_input": "2024-09-15T14:11:54.316410Z",
     "iopub.status.busy": "2024-09-15T14:11:54.315982Z",
     "iopub.status.idle": "2024-09-15T14:11:54.599720Z",
     "shell.execute_reply": "2024-09-15T14:11:54.598682Z"
    },
    "papermill": {
     "duration": 0.304539,
     "end_time": "2024-09-15T14:11:54.602030",
     "exception": false,
     "start_time": "2024-09-15T14:11:54.297491",
     "status": "completed"
    },
    "tags": []
   },
   "outputs": [
    {
     "data": {
      "image/png": "[encoded data removed]",
      "text/plain": [
       "<Figure size 1000x600 with 1 Axes>"
      ]
     },
     "metadata": {},
     "output_type": "display_data"
    }
   ],
   "source": [
    "# Plot the k values vs. accuracy on the test set\n",
    "plt.figure(figsize=(10, 6))\n",
    "plt.plot(k_values, test_accuracies, marker='o')\n",
    "plt.xlabel('k')\n",
    "plt.ylabel('Test Set Accuracy')\n",
    "plt.title('k-NN Varying k Value')\n",
    "plt.show()"
   ]
  },
  {
   "cell_type": "markdown",
   "id": "556bf621",
   "metadata": {
    "papermill": {
     "duration": 0.018023,
     "end_time": "2024-09-15T14:11:54.638759",
     "exception": false,
     "start_time": "2024-09-15T14:11:54.620736",
     "status": "completed"
    },
    "tags": []
   },
   "source": [
    "## 12.Building the second model"
   ]
  },
  {
   "cell_type": "code",
   "execution_count": 21,
   "id": "17a3e93e",
   "metadata": {
    "execution": {
     "iopub.execute_input": "2024-09-15T14:11:54.676719Z",
     "iopub.status.busy": "2024-09-15T14:11:54.675982Z",
     "iopub.status.idle": "2024-09-15T14:11:54.957974Z",
     "shell.execute_reply": "2024-09-15T14:11:54.956958Z"
    },
    "papermill": {
     "duration": 0.303378,
     "end_time": "2024-09-15T14:11:54.960147",
     "exception": false,
     "start_time": "2024-09-15T14:11:54.656769",
     "status": "completed"
    },
    "tags": []
   },
   "outputs": [
    {
     "data": {
      "text/html": [
       "<style>#sk-container-id-2 {color: black;background-color: white;}#sk-container-id-2 pre{padding: 0;}#sk-container-id-2 div.sk-toggleable {background-color: white;}#sk-container-id-2 label.sk-toggleable__label {cursor: pointer;display: block;width: 100%;margin-bottom: 0;padding: 0.3em;box-sizing: border-box;text-align: center;}#sk-container-id-2 label.sk-toggleable__label-arrow:before {content: \"▸\";float: left;margin-right: 0.25em;color: #696969;}#sk-container-id-2 label.sk-toggleable__label-arrow:hover:before {color: black;}#sk-container-id-2 div.sk-estimator:hover label.sk-toggleable__label-arrow:before {color: black;}#sk-container-id-2 div.sk-toggleable__content {max-height: 0;max-width: 0;overflow: hidden;text-align: left;background-color: #f0f8ff;}#sk-container-id-2 div.sk-toggleable__content pre {margin: 0.2em;color: black;border-radius: 0.25em;background-color: #f0f8ff;}#sk-container-id-2 input.sk-toggleable__control:checked~div.sk-toggleable__content {max-height: 200px;max-width: 100%;overflow: auto;}#sk-container-id-2 input.sk-toggleable__control:checked~label.sk-toggleable__label-arrow:before {content: \"▾\";}#sk-container-id-2 div.sk-estimator input.sk-toggleable__control:checked~label.sk-toggleable__label {background-color: #d4ebff;}#sk-container-id-2 div.sk-label input.sk-toggleable__control:checked~label.sk-toggleable__label {background-color: #d4ebff;}#sk-container-id-2 input.sk-hidden--visually {border: 0;clip: rect(1px 1px 1px 1px);clip: rect(1px, 1px, 1px, 1px);height: 1px;margin: -1px;overflow: hidden;padding: 0;position: absolute;width: 1px;}#sk-container-id-2 div.sk-estimator {font-family: monospace;background-color: #f0f8ff;border: 1px dotted black;border-radius: 0.25em;box-sizing: border-box;margin-bottom: 0.5em;}#sk-container-id-2 div.sk-estimator:hover {background-color: #d4ebff;}#sk-container-id-2 div.sk-parallel-item::after {content: \"\";width: 100%;border-bottom: 1px solid gray;flex-grow: 1;}#sk-container-id-2 div.sk-label:hover label.sk-toggleable__label {background-color: #d4ebff;}#sk-container-id-2 div.sk-serial::before {content: \"\";position: absolute;border-left: 1px solid gray;box-sizing: border-box;top: 0;bottom: 0;left: 50%;z-index: 0;}#sk-container-id-2 div.sk-serial {display: flex;flex-direction: column;align-items: center;background-color: white;padding-right: 0.2em;padding-left: 0.2em;position: relative;}#sk-container-id-2 div.sk-item {position: relative;z-index: 1;}#sk-container-id-2 div.sk-parallel {display: flex;align-items: stretch;justify-content: center;background-color: white;position: relative;}#sk-container-id-2 div.sk-item::before, #sk-container-id-2 div.sk-parallel-item::before {content: \"\";position: absolute;border-left: 1px solid gray;box-sizing: border-box;top: 0;bottom: 0;left: 50%;z-index: -1;}#sk-container-id-2 div.sk-parallel-item {display: flex;flex-direction: column;z-index: 1;position: relative;background-color: white;}#sk-container-id-2 div.sk-parallel-item:first-child::after {align-self: flex-end;width: 50%;}#sk-container-id-2 div.sk-parallel-item:last-child::after {align-self: flex-start;width: 50%;}#sk-container-id-2 div.sk-parallel-item:only-child::after {width: 0;}#sk-container-id-2 div.sk-dashed-wrapped {border: 1px dashed gray;margin: 0 0.4em 0.5em 0.4em;box-sizing: border-box;padding-bottom: 0.4em;background-color: white;}#sk-container-id-2 div.sk-label label {font-family: monospace;font-weight: bold;display: inline-block;line-height: 1.2em;}#sk-container-id-2 div.sk-label-container {text-align: center;}#sk-container-id-2 div.sk-container {/* jupyter's `normalize.less` sets `[hidden] { display: none; }` but bootstrap.min.css set `[hidden] { display: none !important; }` so we also need the `!important` here to be able to override the default hidden behavior on the sphinx rendered scikit-learn.org. See: https://github.com/scikit-learn/scikit-learn/issues/21755 */display: inline-block !important;position: relative;}#sk-container-id-2 div.sk-text-repr-fallback {display: none;}</style><div id=\"sk-container-id-2\" class=\"sk-top-container\"><div class=\"sk-text-repr-fallback\"><pre>DecisionTreeClassifier()</pre><b>In a Jupyter environment, please rerun this cell to show the HTML representation or trust the notebook. <br />On GitHub, the HTML representation is unable to render, please try loading this page with nbviewer.org.</b></div><div class=\"sk-container\" hidden><div class=\"sk-item\"><div class=\"sk-estimator sk-toggleable\"><input class=\"sk-toggleable__control sk-hidden--visually\" id=\"sk-estimator-id-2\" type=\"checkbox\" checked><label for=\"sk-estimator-id-2\" class=\"sk-toggleable__label sk-toggleable__label-arrow\">DecisionTreeClassifier</label><div class=\"sk-toggleable__content\"><pre>DecisionTreeClassifier()</pre></div></div></div></div></div>"
      ],
      "text/plain": [
       "DecisionTreeClassifier()"
      ]
     },
     "execution_count": 21,
     "metadata": {},
     "output_type": "execute_result"
    }
   ],
   "source": [
    "model2 = DecisionTreeClassifier()\n",
    "model2.fit(X_train,y_train)"
   ]
  },
  {
   "cell_type": "markdown",
   "id": "a1383cf3",
   "metadata": {
    "papermill": {
     "duration": 0.018144,
     "end_time": "2024-09-15T14:11:54.997301",
     "exception": false,
     "start_time": "2024-09-15T14:11:54.979157",
     "status": "completed"
    },
    "tags": []
   },
   "source": [
    "- here we are building a model from type ' Decision Tree Classifier '"
   ]
  },
  {
   "cell_type": "markdown",
   "id": "808ca0c4",
   "metadata": {
    "papermill": {
     "duration": 0.017993,
     "end_time": "2024-09-15T14:11:55.033542",
     "exception": false,
     "start_time": "2024-09-15T14:11:55.015549",
     "status": "completed"
    },
    "tags": []
   },
   "source": [
    "- To predict our second model"
   ]
  },
  {
   "cell_type": "code",
   "execution_count": 22,
   "id": "cd3d4066",
   "metadata": {
    "execution": {
     "iopub.execute_input": "2024-09-15T14:11:55.072491Z",
     "iopub.status.busy": "2024-09-15T14:11:55.071411Z",
     "iopub.status.idle": "2024-09-15T14:11:55.084132Z",
     "shell.execute_reply": "2024-09-15T14:11:55.083055Z"
    },
    "papermill": {
     "duration": 0.034539,
     "end_time": "2024-09-15T14:11:55.086489",
     "exception": false,
     "start_time": "2024-09-15T14:11:55.051950",
     "status": "completed"
    },
    "tags": []
   },
   "outputs": [
    {
     "data": {
      "text/plain": [
       "array([0, 0, 0, ..., 0, 0, 0])"
      ]
     },
     "execution_count": 22,
     "metadata": {},
     "output_type": "execute_result"
    }
   ],
   "source": [
    "y_pred = model2.predict(X_test)\n",
    "y_pred"
   ]
  },
  {
   "cell_type": "markdown",
   "id": "7a0380df",
   "metadata": {
    "papermill": {
     "duration": 0.018078,
     "end_time": "2024-09-15T14:11:55.122947",
     "exception": false,
     "start_time": "2024-09-15T14:11:55.104869",
     "status": "completed"
    },
    "tags": []
   },
   "source": [
    "- Checking the model accuracy after we are building it and makeing predict for this model"
   ]
  },
  {
   "cell_type": "code",
   "execution_count": 23,
   "id": "f2aa55ef",
   "metadata": {
    "execution": {
     "iopub.execute_input": "2024-09-15T14:11:55.161543Z",
     "iopub.status.busy": "2024-09-15T14:11:55.160800Z",
     "iopub.status.idle": "2024-09-15T14:11:55.169783Z",
     "shell.execute_reply": "2024-09-15T14:11:55.168834Z"
    },
    "papermill": {
     "duration": 0.030617,
     "end_time": "2024-09-15T14:11:55.171882",
     "exception": false,
     "start_time": "2024-09-15T14:11:55.141265",
     "status": "completed"
    },
    "tags": []
   },
   "outputs": [
    {
     "data": {
      "text/plain": [
       "0.9489339573582943"
      ]
     },
     "execution_count": 23,
     "metadata": {},
     "output_type": "execute_result"
    }
   ],
   "source": [
    "accuracy_score(y_test,y_pred)"
   ]
  },
  {
   "cell_type": "markdown",
   "id": "b422af4d",
   "metadata": {
    "papermill": {
     "duration": 0.01819,
     "end_time": "2024-09-15T14:11:55.208976",
     "exception": false,
     "start_time": "2024-09-15T14:11:55.190786",
     "status": "completed"
    },
    "tags": []
   },
   "source": [
    "## 13.Building third model"
   ]
  },
  {
   "cell_type": "code",
   "execution_count": 24,
   "id": "519f47c3",
   "metadata": {
    "execution": {
     "iopub.execute_input": "2024-09-15T14:11:55.247754Z",
     "iopub.status.busy": "2024-09-15T14:11:55.246787Z",
     "iopub.status.idle": "2024-09-15T14:11:58.036783Z",
     "shell.execute_reply": "2024-09-15T14:11:58.035774Z"
    },
    "papermill": {
     "duration": 2.811591,
     "end_time": "2024-09-15T14:11:58.038946",
     "exception": false,
     "start_time": "2024-09-15T14:11:55.227355",
     "status": "completed"
    },
    "tags": []
   },
   "outputs": [
    {
     "data": {
      "text/html": [
       "<style>#sk-container-id-3 {color: black;background-color: white;}#sk-container-id-3 pre{padding: 0;}#sk-container-id-3 div.sk-toggleable {background-color: white;}#sk-container-id-3 label.sk-toggleable__label {cursor: pointer;display: block;width: 100%;margin-bottom: 0;padding: 0.3em;box-sizing: border-box;text-align: center;}#sk-container-id-3 label.sk-toggleable__label-arrow:before {content: \"▸\";float: left;margin-right: 0.25em;color: #696969;}#sk-container-id-3 label.sk-toggleable__label-arrow:hover:before {color: black;}#sk-container-id-3 div.sk-estimator:hover label.sk-toggleable__label-arrow:before {color: black;}#sk-container-id-3 div.sk-toggleable__content {max-height: 0;max-width: 0;overflow: hidden;text-align: left;background-color: #f0f8ff;}#sk-container-id-3 div.sk-toggleable__content pre {margin: 0.2em;color: black;border-radius: 0.25em;background-color: #f0f8ff;}#sk-container-id-3 input.sk-toggleable__control:checked~div.sk-toggleable__content {max-height: 200px;max-width: 100%;overflow: auto;}#sk-container-id-3 input.sk-toggleable__control:checked~label.sk-toggleable__label-arrow:before {content: \"▾\";}#sk-container-id-3 div.sk-estimator input.sk-toggleable__control:checked~label.sk-toggleable__label {background-color: #d4ebff;}#sk-container-id-3 div.sk-label input.sk-toggleable__control:checked~label.sk-toggleable__label {background-color: #d4ebff;}#sk-container-id-3 input.sk-hidden--visually {border: 0;clip: rect(1px 1px 1px 1px);clip: rect(1px, 1px, 1px, 1px);height: 1px;margin: -1px;overflow: hidden;padding: 0;position: absolute;width: 1px;}#sk-container-id-3 div.sk-estimator {font-family: monospace;background-color: #f0f8ff;border: 1px dotted black;border-radius: 0.25em;box-sizing: border-box;margin-bottom: 0.5em;}#sk-container-id-3 div.sk-estimator:hover {background-color: #d4ebff;}#sk-container-id-3 div.sk-parallel-item::after {content: \"\";width: 100%;border-bottom: 1px solid gray;flex-grow: 1;}#sk-container-id-3 div.sk-label:hover label.sk-toggleable__label {background-color: #d4ebff;}#sk-container-id-3 div.sk-serial::before {content: \"\";position: absolute;border-left: 1px solid gray;box-sizing: border-box;top: 0;bottom: 0;left: 50%;z-index: 0;}#sk-container-id-3 div.sk-serial {display: flex;flex-direction: column;align-items: center;background-color: white;padding-right: 0.2em;padding-left: 0.2em;position: relative;}#sk-container-id-3 div.sk-item {position: relative;z-index: 1;}#sk-container-id-3 div.sk-parallel {display: flex;align-items: stretch;justify-content: center;background-color: white;position: relative;}#sk-container-id-3 div.sk-item::before, #sk-container-id-3 div.sk-parallel-item::before {content: \"\";position: absolute;border-left: 1px solid gray;box-sizing: border-box;top: 0;bottom: 0;left: 50%;z-index: -1;}#sk-container-id-3 div.sk-parallel-item {display: flex;flex-direction: column;z-index: 1;position: relative;background-color: white;}#sk-container-id-3 div.sk-parallel-item:first-child::after {align-self: flex-end;width: 50%;}#sk-container-id-3 div.sk-parallel-item:last-child::after {align-self: flex-start;width: 50%;}#sk-container-id-3 div.sk-parallel-item:only-child::after {width: 0;}#sk-container-id-3 div.sk-dashed-wrapped {border: 1px dashed gray;margin: 0 0.4em 0.5em 0.4em;box-sizing: border-box;padding-bottom: 0.4em;background-color: white;}#sk-container-id-3 div.sk-label label {font-family: monospace;font-weight: bold;display: inline-block;line-height: 1.2em;}#sk-container-id-3 div.sk-label-container {text-align: center;}#sk-container-id-3 div.sk-container {/* jupyter's `normalize.less` sets `[hidden] { display: none; }` but bootstrap.min.css set `[hidden] { display: none !important; }` so we also need the `!important` here to be able to override the default hidden behavior on the sphinx rendered scikit-learn.org. See: https://github.com/scikit-learn/scikit-learn/issues/21755 */display: inline-block !important;position: relative;}#sk-container-id-3 div.sk-text-repr-fallback {display: none;}</style><div id=\"sk-container-id-3\" class=\"sk-top-container\"><div class=\"sk-text-repr-fallback\"><pre>RandomForestClassifier(criterion=&#x27;entropy&#x27;, n_estimators=40)</pre><b>In a Jupyter environment, please rerun this cell to show the HTML representation or trust the notebook. <br />On GitHub, the HTML representation is unable to render, please try loading this page with nbviewer.org.</b></div><div class=\"sk-container\" hidden><div class=\"sk-item\"><div class=\"sk-estimator sk-toggleable\"><input class=\"sk-toggleable__control sk-hidden--visually\" id=\"sk-estimator-id-3\" type=\"checkbox\" checked><label for=\"sk-estimator-id-3\" class=\"sk-toggleable__label sk-toggleable__label-arrow\">RandomForestClassifier</label><div class=\"sk-toggleable__content\"><pre>RandomForestClassifier(criterion=&#x27;entropy&#x27;, n_estimators=40)</pre></div></div></div></div></div>"
      ],
      "text/plain": [
       "RandomForestClassifier(criterion='entropy', n_estimators=40)"
      ]
     },
     "execution_count": 24,
     "metadata": {},
     "output_type": "execute_result"
    }
   ],
   "source": [
    "model3 = RandomForestClassifier(criterion='entropy',n_estimators=40) \n",
    "model3.fit(X_train,y_train)"
   ]
  },
  {
   "cell_type": "markdown",
   "id": "1316e4b7",
   "metadata": {
    "papermill": {
     "duration": 0.018654,
     "end_time": "2024-09-15T14:11:58.076264",
     "exception": false,
     "start_time": "2024-09-15T14:11:58.057610",
     "status": "completed"
    },
    "tags": []
   },
   "source": [
    "- This model we are give it the number of trees and this is makeing the model more slowed than ' Decision Tree Classifier '"
   ]
  },
  {
   "cell_type": "markdown",
   "id": "9e9d3e61",
   "metadata": {
    "papermill": {
     "duration": 0.018323,
     "end_time": "2024-09-15T14:11:58.113925",
     "exception": false,
     "start_time": "2024-09-15T14:11:58.095602",
     "status": "completed"
    },
    "tags": []
   },
   "source": [
    "- Predict our model"
   ]
  },
  {
   "cell_type": "code",
   "execution_count": 25,
   "id": "fe9aeeda",
   "metadata": {
    "execution": {
     "iopub.execute_input": "2024-09-15T14:11:58.152864Z",
     "iopub.status.busy": "2024-09-15T14:11:58.152447Z",
     "iopub.status.idle": "2024-09-15T14:11:58.269363Z",
     "shell.execute_reply": "2024-09-15T14:11:58.268439Z"
    },
    "papermill": {
     "duration": 0.139047,
     "end_time": "2024-09-15T14:11:58.271660",
     "exception": false,
     "start_time": "2024-09-15T14:11:58.132613",
     "status": "completed"
    },
    "tags": []
   },
   "outputs": [
    {
     "data": {
      "text/plain": [
       "array([0, 0, 0, ..., 0, 0, 0])"
      ]
     },
     "execution_count": 25,
     "metadata": {},
     "output_type": "execute_result"
    }
   ],
   "source": [
    "y_pred = model3.predict(X_test)\n",
    "y_pred"
   ]
  },
  {
   "cell_type": "markdown",
   "id": "3894176d",
   "metadata": {
    "papermill": {
     "duration": 0.018241,
     "end_time": "2024-09-15T14:11:58.308666",
     "exception": false,
     "start_time": "2024-09-15T14:11:58.290425",
     "status": "completed"
    },
    "tags": []
   },
   "source": [
    "- Checking the model accuracy"
   ]
  },
  {
   "cell_type": "code",
   "execution_count": 26,
   "id": "df7d352a",
   "metadata": {
    "execution": {
     "iopub.execute_input": "2024-09-15T14:11:58.348034Z",
     "iopub.status.busy": "2024-09-15T14:11:58.347352Z",
     "iopub.status.idle": "2024-09-15T14:11:58.356224Z",
     "shell.execute_reply": "2024-09-15T14:11:58.355308Z"
    },
    "papermill": {
     "duration": 0.03077,
     "end_time": "2024-09-15T14:11:58.358334",
     "exception": false,
     "start_time": "2024-09-15T14:11:58.327564",
     "status": "completed"
    },
    "tags": []
   },
   "outputs": [
    {
     "data": {
      "text/plain": [
       "0.968278731149246"
      ]
     },
     "execution_count": 26,
     "metadata": {},
     "output_type": "execute_result"
    }
   ],
   "source": [
    "accuracy_score(y_test,y_pred)"
   ]
  },
  {
   "cell_type": "markdown",
   "id": "ded48e90",
   "metadata": {
    "papermill": {
     "duration": 0.018714,
     "end_time": "2024-09-15T14:11:58.397468",
     "exception": false,
     "start_time": "2024-09-15T14:11:58.378754",
     "status": "completed"
    },
    "tags": []
   },
   "source": [
    "![](https://th.bing.com/th/id/R.92cc54ad370731fdc4c458391743b528?rik=sHjQAvPiMUOXxQ&pid=ImgRaw&r=0)"
   ]
  },
  {
   "cell_type": "markdown",
   "id": "3242bd29",
   "metadata": {
    "papermill": {
     "duration": 0.018455,
     "end_time": "2024-09-15T14:11:58.434598",
     "exception": false,
     "start_time": "2024-09-15T14:11:58.416143",
     "status": "completed"
    },
    "tags": []
   },
   "source": [
    "- If we need to save version from the best moedl was give us the best accuracy on our account kaggle we useing this library to save it"
   ]
  },
  {
   "cell_type": "code",
   "execution_count": 27,
   "id": "a169d7db",
   "metadata": {
    "execution": {
     "iopub.execute_input": "2024-09-15T14:11:58.475017Z",
     "iopub.status.busy": "2024-09-15T14:11:58.474624Z",
     "iopub.status.idle": "2024-09-15T14:11:58.641866Z",
     "shell.execute_reply": "2024-09-15T14:11:58.640841Z"
    },
    "papermill": {
     "duration": 0.190205,
     "end_time": "2024-09-15T14:11:58.644054",
     "exception": false,
     "start_time": "2024-09-15T14:11:58.453849",
     "status": "completed"
    },
    "tags": []
   },
   "outputs": [
    {
     "data": {
      "text/plain": [
       "array([0, 0, 0, ..., 0, 0, 0])"
      ]
     },
     "execution_count": 27,
     "metadata": {},
     "output_type": "execute_result"
    }
   ],
   "source": [
    "import pickle\n",
    " \n",
    "# save\n",
    "model_name = 'final_model.sav'\n",
    "save_model = pickle.dump(model3,open(model_name,'wb'))\n",
    " \n",
    "# load \n",
    "my_model = pickle.load(open('final_model.sav','rb'))\n",
    "my_model.predict(X_test)"
   ]
  },
  {
   "cell_type": "markdown",
   "id": "af6c8cdb",
   "metadata": {
    "papermill": {
     "duration": 0.018698,
     "end_time": "2024-09-15T14:11:58.681656",
     "exception": false,
     "start_time": "2024-09-15T14:11:58.662958",
     "status": "completed"
    },
    "tags": []
   },
   "source": [
    "## 14. Improve Model by ' Gridsearch ' "
   ]
  },
  {
   "cell_type": "markdown",
   "id": "174487c2",
   "metadata": {
    "papermill": {
     "duration": 0.018384,
     "end_time": "2024-09-15T14:11:58.718777",
     "exception": false,
     "start_time": "2024-09-15T14:11:58.700393",
     "status": "completed"
    },
    "tags": []
   },
   "source": [
    "- First model"
   ]
  },
  {
   "cell_type": "code",
   "execution_count": 28,
   "id": "c72b84de",
   "metadata": {
    "execution": {
     "iopub.execute_input": "2024-09-15T14:11:58.757874Z",
     "iopub.status.busy": "2024-09-15T14:11:58.757483Z",
     "iopub.status.idle": "2024-09-15T14:11:58.762392Z",
     "shell.execute_reply": "2024-09-15T14:11:58.761320Z"
    },
    "papermill": {
     "duration": 0.026897,
     "end_time": "2024-09-15T14:11:58.764413",
     "exception": false,
     "start_time": "2024-09-15T14:11:58.737516",
     "status": "completed"
    },
    "tags": []
   },
   "outputs": [],
   "source": [
    "param_grid = {\n",
    "    'n_neighbors':[1,3,5,7,9],\n",
    "}"
   ]
  },
  {
   "cell_type": "markdown",
   "id": "cb82e0d1",
   "metadata": {
    "papermill": {
     "duration": 0.018668,
     "end_time": "2024-09-15T14:11:58.801976",
     "exception": false,
     "start_time": "2024-09-15T14:11:58.783308",
     "status": "completed"
    },
    "tags": []
   },
   "source": [
    "- In this step we are makeing an gridsearch on KNN model and given the model the number of neighbor"
   ]
  },
  {
   "cell_type": "code",
   "execution_count": 29,
   "id": "29c56662",
   "metadata": {
    "execution": {
     "iopub.execute_input": "2024-09-15T14:11:58.841151Z",
     "iopub.status.busy": "2024-09-15T14:11:58.840714Z",
     "iopub.status.idle": "2024-09-15T14:12:29.007059Z",
     "shell.execute_reply": "2024-09-15T14:12:29.006045Z"
    },
    "papermill": {
     "duration": 30.207755,
     "end_time": "2024-09-15T14:12:29.028456",
     "exception": false,
     "start_time": "2024-09-15T14:11:58.820701",
     "status": "completed"
    },
    "tags": []
   },
   "outputs": [
    {
     "data": {
      "text/html": [
       "<style>#sk-container-id-4 {color: black;background-color: white;}#sk-container-id-4 pre{padding: 0;}#sk-container-id-4 div.sk-toggleable {background-color: white;}#sk-container-id-4 label.sk-toggleable__label {cursor: pointer;display: block;width: 100%;margin-bottom: 0;padding: 0.3em;box-sizing: border-box;text-align: center;}#sk-container-id-4 label.sk-toggleable__label-arrow:before {content: \"▸\";float: left;margin-right: 0.25em;color: #696969;}#sk-container-id-4 label.sk-toggleable__label-arrow:hover:before {color: black;}#sk-container-id-4 div.sk-estimator:hover label.sk-toggleable__label-arrow:before {color: black;}#sk-container-id-4 div.sk-toggleable__content {max-height: 0;max-width: 0;overflow: hidden;text-align: left;background-color: #f0f8ff;}#sk-container-id-4 div.sk-toggleable__content pre {margin: 0.2em;color: black;border-radius: 0.25em;background-color: #f0f8ff;}#sk-container-id-4 input.sk-toggleable__control:checked~div.sk-toggleable__content {max-height: 200px;max-width: 100%;overflow: auto;}#sk-container-id-4 input.sk-toggleable__control:checked~label.sk-toggleable__label-arrow:before {content: \"▾\";}#sk-container-id-4 div.sk-estimator input.sk-toggleable__control:checked~label.sk-toggleable__label {background-color: #d4ebff;}#sk-container-id-4 div.sk-label input.sk-toggleable__control:checked~label.sk-toggleable__label {background-color: #d4ebff;}#sk-container-id-4 input.sk-hidden--visually {border: 0;clip: rect(1px 1px 1px 1px);clip: rect(1px, 1px, 1px, 1px);height: 1px;margin: -1px;overflow: hidden;padding: 0;position: absolute;width: 1px;}#sk-container-id-4 div.sk-estimator {font-family: monospace;background-color: #f0f8ff;border: 1px dotted black;border-radius: 0.25em;box-sizing: border-box;margin-bottom: 0.5em;}#sk-container-id-4 div.sk-estimator:hover {background-color: #d4ebff;}#sk-container-id-4 div.sk-parallel-item::after {content: \"\";width: 100%;border-bottom: 1px solid gray;flex-grow: 1;}#sk-container-id-4 div.sk-label:hover label.sk-toggleable__label {background-color: #d4ebff;}#sk-container-id-4 div.sk-serial::before {content: \"\";position: absolute;border-left: 1px solid gray;box-sizing: border-box;top: 0;bottom: 0;left: 50%;z-index: 0;}#sk-container-id-4 div.sk-serial {display: flex;flex-direction: column;align-items: center;background-color: white;padding-right: 0.2em;padding-left: 0.2em;position: relative;}#sk-container-id-4 div.sk-item {position: relative;z-index: 1;}#sk-container-id-4 div.sk-parallel {display: flex;align-items: stretch;justify-content: center;background-color: white;position: relative;}#sk-container-id-4 div.sk-item::before, #sk-container-id-4 div.sk-parallel-item::before {content: \"\";position: absolute;border-left: 1px solid gray;box-sizing: border-box;top: 0;bottom: 0;left: 50%;z-index: -1;}#sk-container-id-4 div.sk-parallel-item {display: flex;flex-direction: column;z-index: 1;position: relative;background-color: white;}#sk-container-id-4 div.sk-parallel-item:first-child::after {align-self: flex-end;width: 50%;}#sk-container-id-4 div.sk-parallel-item:last-child::after {align-self: flex-start;width: 50%;}#sk-container-id-4 div.sk-parallel-item:only-child::after {width: 0;}#sk-container-id-4 div.sk-dashed-wrapped {border: 1px dashed gray;margin: 0 0.4em 0.5em 0.4em;box-sizing: border-box;padding-bottom: 0.4em;background-color: white;}#sk-container-id-4 div.sk-label label {font-family: monospace;font-weight: bold;display: inline-block;line-height: 1.2em;}#sk-container-id-4 div.sk-label-container {text-align: center;}#sk-container-id-4 div.sk-container {/* jupyter's `normalize.less` sets `[hidden] { display: none; }` but bootstrap.min.css set `[hidden] { display: none !important; }` so we also need the `!important` here to be able to override the default hidden behavior on the sphinx rendered scikit-learn.org. See: https://github.com/scikit-learn/scikit-learn/issues/21755 */display: inline-block !important;position: relative;}#sk-container-id-4 div.sk-text-repr-fallback {display: none;}</style><div id=\"sk-container-id-4\" class=\"sk-top-container\"><div class=\"sk-text-repr-fallback\"><pre>GridSearchCV(cv=5, estimator=KNeighborsClassifier(),\n",
       "             param_grid={&#x27;n_neighbors&#x27;: [1, 3, 5, 7, 9]})</pre><b>In a Jupyter environment, please rerun this cell to show the HTML representation or trust the notebook. <br />On GitHub, the HTML representation is unable to render, please try loading this page with nbviewer.org.</b></div><div class=\"sk-container\" hidden><div class=\"sk-item sk-dashed-wrapped\"><div class=\"sk-label-container\"><div class=\"sk-label sk-toggleable\"><input class=\"sk-toggleable__control sk-hidden--visually\" id=\"sk-estimator-id-4\" type=\"checkbox\" ><label for=\"sk-estimator-id-4\" class=\"sk-toggleable__label sk-toggleable__label-arrow\">GridSearchCV</label><div class=\"sk-toggleable__content\"><pre>GridSearchCV(cv=5, estimator=KNeighborsClassifier(),\n",
       "             param_grid={&#x27;n_neighbors&#x27;: [1, 3, 5, 7, 9]})</pre></div></div></div><div class=\"sk-parallel\"><div class=\"sk-parallel-item\"><div class=\"sk-item\"><div class=\"sk-label-container\"><div class=\"sk-label sk-toggleable\"><input class=\"sk-toggleable__control sk-hidden--visually\" id=\"sk-estimator-id-5\" type=\"checkbox\" ><label for=\"sk-estimator-id-5\" class=\"sk-toggleable__label sk-toggleable__label-arrow\">estimator: KNeighborsClassifier</label><div class=\"sk-toggleable__content\"><pre>KNeighborsClassifier()</pre></div></div></div><div class=\"sk-serial\"><div class=\"sk-item\"><div class=\"sk-estimator sk-toggleable\"><input class=\"sk-toggleable__control sk-hidden--visually\" id=\"sk-estimator-id-6\" type=\"checkbox\" ><label for=\"sk-estimator-id-6\" class=\"sk-toggleable__label sk-toggleable__label-arrow\">KNeighborsClassifier</label><div class=\"sk-toggleable__content\"><pre>KNeighborsClassifier()</pre></div></div></div></div></div></div></div></div></div></div>"
      ],
      "text/plain": [
       "GridSearchCV(cv=5, estimator=KNeighborsClassifier(),\n",
       "             param_grid={'n_neighbors': [1, 3, 5, 7, 9]})"
      ]
     },
     "execution_count": 29,
     "metadata": {},
     "output_type": "execute_result"
    }
   ],
   "source": [
    "grid_search = GridSearchCV(\n",
    "    KNeighborsClassifier() , \n",
    "    param_grid , cv=5\n",
    ")\n",
    "\n",
    "grid_search.fit(X_train , y_train)"
   ]
  },
  {
   "cell_type": "markdown",
   "id": "69df8796",
   "metadata": {
    "papermill": {
     "duration": 0.018665,
     "end_time": "2024-09-15T14:12:29.065991",
     "exception": false,
     "start_time": "2024-09-15T14:12:29.047326",
     "status": "completed"
    },
    "tags": []
   },
   "source": [
    "- Building it "
   ]
  },
  {
   "cell_type": "markdown",
   "id": "80ce9f7a",
   "metadata": {
    "papermill": {
     "duration": 0.019185,
     "end_time": "2024-09-15T14:12:29.104010",
     "exception": false,
     "start_time": "2024-09-15T14:12:29.084825",
     "status": "completed"
    },
    "tags": []
   },
   "source": [
    "- The best score from this model"
   ]
  },
  {
   "cell_type": "code",
   "execution_count": 30,
   "id": "b157cf3b",
   "metadata": {
    "execution": {
     "iopub.execute_input": "2024-09-15T14:12:29.144313Z",
     "iopub.status.busy": "2024-09-15T14:12:29.143889Z",
     "iopub.status.idle": "2024-09-15T14:12:30.549917Z",
     "shell.execute_reply": "2024-09-15T14:12:30.548899Z"
    },
    "papermill": {
     "duration": 1.428775,
     "end_time": "2024-09-15T14:12:30.552169",
     "exception": false,
     "start_time": "2024-09-15T14:12:29.123394",
     "status": "completed"
    },
    "tags": []
   },
   "outputs": [
    {
     "data": {
      "text/plain": [
       "0.9536661466458658"
      ]
     },
     "execution_count": 30,
     "metadata": {},
     "output_type": "execute_result"
    }
   ],
   "source": [
    "grid_search.score(X_test,y_test)"
   ]
  },
  {
   "cell_type": "code",
   "execution_count": 31,
   "id": "59378445",
   "metadata": {
    "execution": {
     "iopub.execute_input": "2024-09-15T14:12:30.591997Z",
     "iopub.status.busy": "2024-09-15T14:12:30.591613Z",
     "iopub.status.idle": "2024-09-15T14:12:30.597729Z",
     "shell.execute_reply": "2024-09-15T14:12:30.596728Z"
    },
    "papermill": {
     "duration": 0.028379,
     "end_time": "2024-09-15T14:12:30.599690",
     "exception": false,
     "start_time": "2024-09-15T14:12:30.571311",
     "status": "completed"
    },
    "tags": []
   },
   "outputs": [
    {
     "data": {
      "text/plain": [
       "{'n_neighbors': 5}"
      ]
     },
     "execution_count": 31,
     "metadata": {},
     "output_type": "execute_result"
    }
   ],
   "source": [
    "grid_search.best_params_"
   ]
  },
  {
   "cell_type": "markdown",
   "id": "c367b8b7",
   "metadata": {
    "papermill": {
     "duration": 0.018752,
     "end_time": "2024-09-15T14:12:30.637595",
     "exception": false,
     "start_time": "2024-09-15T14:12:30.618843",
     "status": "completed"
    },
    "tags": []
   },
   "source": [
    "- here the best neighbor that has number 5"
   ]
  },
  {
   "cell_type": "markdown",
   "id": "fea55b88",
   "metadata": {
    "papermill": {
     "duration": 0.018688,
     "end_time": "2024-09-15T14:12:30.675303",
     "exception": false,
     "start_time": "2024-09-15T14:12:30.656615",
     "status": "completed"
    },
    "tags": []
   },
   "source": [
    "- Ranking of neighbors in our data by quality"
   ]
  },
  {
   "cell_type": "code",
   "execution_count": 32,
   "id": "56a61736",
   "metadata": {
    "execution": {
     "iopub.execute_input": "2024-09-15T14:12:30.715330Z",
     "iopub.status.busy": "2024-09-15T14:12:30.714899Z",
     "iopub.status.idle": "2024-09-15T14:12:30.735120Z",
     "shell.execute_reply": "2024-09-15T14:12:30.734168Z"
    },
    "papermill": {
     "duration": 0.042927,
     "end_time": "2024-09-15T14:12:30.737255",
     "exception": false,
     "start_time": "2024-09-15T14:12:30.694328",
     "status": "completed"
    },
    "tags": []
   },
   "outputs": [
    {
     "data": {
      "text/html": [
       "<div>\n",
       "<style scoped>\n",
       "    .dataframe tbody tr th:only-of-type {\n",
       "        vertical-align: middle;\n",
       "    }\n",
       "\n",
       "    .dataframe tbody tr th {\n",
       "        vertical-align: top;\n",
       "    }\n",
       "\n",
       "    .dataframe thead th {\n",
       "        text-align: right;\n",
       "    }\n",
       "</style>\n",
       "<table border=\"1\" class=\"dataframe\">\n",
       "  <thead>\n",
       "    <tr style=\"text-align: right;\">\n",
       "      <th></th>\n",
       "      <th>mean_fit_time</th>\n",
       "      <th>std_fit_time</th>\n",
       "      <th>mean_score_time</th>\n",
       "      <th>std_score_time</th>\n",
       "      <th>param_n_neighbors</th>\n",
       "      <th>params</th>\n",
       "      <th>split0_test_score</th>\n",
       "      <th>split1_test_score</th>\n",
       "      <th>split2_test_score</th>\n",
       "      <th>split3_test_score</th>\n",
       "      <th>split4_test_score</th>\n",
       "      <th>mean_test_score</th>\n",
       "      <th>std_test_score</th>\n",
       "      <th>rank_test_score</th>\n",
       "    </tr>\n",
       "  </thead>\n",
       "  <tbody>\n",
       "    <tr>\n",
       "      <th>0</th>\n",
       "      <td>0.153638</td>\n",
       "      <td>0.001766</td>\n",
       "      <td>0.951832</td>\n",
       "      <td>0.009954</td>\n",
       "      <td>1</td>\n",
       "      <td>{'n_neighbors': 1}</td>\n",
       "      <td>0.939353</td>\n",
       "      <td>0.939219</td>\n",
       "      <td>0.938309</td>\n",
       "      <td>0.940259</td>\n",
       "      <td>0.939479</td>\n",
       "      <td>0.939323</td>\n",
       "      <td>0.000623</td>\n",
       "      <td>5</td>\n",
       "    </tr>\n",
       "    <tr>\n",
       "      <th>1</th>\n",
       "      <td>0.154309</td>\n",
       "      <td>0.003656</td>\n",
       "      <td>1.039686</td>\n",
       "      <td>0.020846</td>\n",
       "      <td>3</td>\n",
       "      <td>{'n_neighbors': 3}</td>\n",
       "      <td>0.950338</td>\n",
       "      <td>0.949490</td>\n",
       "      <td>0.950140</td>\n",
       "      <td>0.949295</td>\n",
       "      <td>0.949620</td>\n",
       "      <td>0.949776</td>\n",
       "      <td>0.000397</td>\n",
       "      <td>4</td>\n",
       "    </tr>\n",
       "    <tr>\n",
       "      <th>2</th>\n",
       "      <td>0.151895</td>\n",
       "      <td>0.001384</td>\n",
       "      <td>1.050991</td>\n",
       "      <td>0.001474</td>\n",
       "      <td>5</td>\n",
       "      <td>{'n_neighbors': 5}</td>\n",
       "      <td>0.952613</td>\n",
       "      <td>0.953260</td>\n",
       "      <td>0.952220</td>\n",
       "      <td>0.951180</td>\n",
       "      <td>0.952415</td>\n",
       "      <td>0.952338</td>\n",
       "      <td>0.000676</td>\n",
       "      <td>1</td>\n",
       "    </tr>\n",
       "    <tr>\n",
       "      <th>3</th>\n",
       "      <td>0.152346</td>\n",
       "      <td>0.001558</td>\n",
       "      <td>1.081803</td>\n",
       "      <td>0.006560</td>\n",
       "      <td>7</td>\n",
       "      <td>{'n_neighbors': 7}</td>\n",
       "      <td>0.953003</td>\n",
       "      <td>0.952285</td>\n",
       "      <td>0.952870</td>\n",
       "      <td>0.950790</td>\n",
       "      <td>0.952610</td>\n",
       "      <td>0.952312</td>\n",
       "      <td>0.000799</td>\n",
       "      <td>3</td>\n",
       "    </tr>\n",
       "    <tr>\n",
       "      <th>4</th>\n",
       "      <td>0.151780</td>\n",
       "      <td>0.001005</td>\n",
       "      <td>1.098896</td>\n",
       "      <td>0.003360</td>\n",
       "      <td>9</td>\n",
       "      <td>{'n_neighbors': 9}</td>\n",
       "      <td>0.952288</td>\n",
       "      <td>0.952610</td>\n",
       "      <td>0.952805</td>\n",
       "      <td>0.950985</td>\n",
       "      <td>0.952935</td>\n",
       "      <td>0.952325</td>\n",
       "      <td>0.000704</td>\n",
       "      <td>2</td>\n",
       "    </tr>\n",
       "  </tbody>\n",
       "</table>\n",
       "</div>"
      ],
      "text/plain": [
       "   mean_fit_time  std_fit_time  mean_score_time  std_score_time  \\\n",
       "0       0.153638      0.001766         0.951832        0.009954   \n",
       "1       0.154309      0.003656         1.039686        0.020846   \n",
       "2       0.151895      0.001384         1.050991        0.001474   \n",
       "3       0.152346      0.001558         1.081803        0.006560   \n",
       "4       0.151780      0.001005         1.098896        0.003360   \n",
       "\n",
       "  param_n_neighbors              params  split0_test_score  split1_test_score  \\\n",
       "0                 1  {'n_neighbors': 1}           0.939353           0.939219   \n",
       "1                 3  {'n_neighbors': 3}           0.950338           0.949490   \n",
       "2                 5  {'n_neighbors': 5}           0.952613           0.953260   \n",
       "3                 7  {'n_neighbors': 7}           0.953003           0.952285   \n",
       "4                 9  {'n_neighbors': 9}           0.952288           0.952610   \n",
       "\n",
       "   split2_test_score  split3_test_score  split4_test_score  mean_test_score  \\\n",
       "0           0.938309           0.940259           0.939479         0.939323   \n",
       "1           0.950140           0.949295           0.949620         0.949776   \n",
       "2           0.952220           0.951180           0.952415         0.952338   \n",
       "3           0.952870           0.950790           0.952610         0.952312   \n",
       "4           0.952805           0.950985           0.952935         0.952325   \n",
       "\n",
       "   std_test_score  rank_test_score  \n",
       "0        0.000623                5  \n",
       "1        0.000397                4  \n",
       "2        0.000676                1  \n",
       "3        0.000799                3  \n",
       "4        0.000704                2  "
      ]
     },
     "execution_count": 32,
     "metadata": {},
     "output_type": "execute_result"
    }
   ],
   "source": [
    "pd.DataFrame(grid_search.cv_results_)"
   ]
  },
  {
   "cell_type": "markdown",
   "id": "0240a761",
   "metadata": {
    "papermill": {
     "duration": 0.01914,
     "end_time": "2024-09-15T14:12:30.776064",
     "exception": false,
     "start_time": "2024-09-15T14:12:30.756924",
     "status": "completed"
    },
    "tags": []
   },
   "source": [
    "- Second model"
   ]
  },
  {
   "cell_type": "code",
   "execution_count": 33,
   "id": "9d7e9dfe",
   "metadata": {
    "execution": {
     "iopub.execute_input": "2024-09-15T14:12:30.817112Z",
     "iopub.status.busy": "2024-09-15T14:12:30.816439Z",
     "iopub.status.idle": "2024-09-15T14:12:30.821253Z",
     "shell.execute_reply": "2024-09-15T14:12:30.820196Z"
    },
    "papermill": {
     "duration": 0.027578,
     "end_time": "2024-09-15T14:12:30.823219",
     "exception": false,
     "start_time": "2024-09-15T14:12:30.795641",
     "status": "completed"
    },
    "tags": []
   },
   "outputs": [],
   "source": [
    "param_grid = {\n",
    "    'n_estimators':[30,35,40],\n",
    "}"
   ]
  },
  {
   "cell_type": "markdown",
   "id": "d10deb04",
   "metadata": {
    "papermill": {
     "duration": 0.019073,
     "end_time": "2024-09-15T14:12:30.862065",
     "exception": false,
     "start_time": "2024-09-15T14:12:30.842992",
     "status": "completed"
    },
    "tags": []
   },
   "source": [
    "- here we are given the model number trees to checking the best one"
   ]
  },
  {
   "cell_type": "markdown",
   "id": "515920d1",
   "metadata": {
    "papermill": {
     "duration": 0.019052,
     "end_time": "2024-09-15T14:12:30.900713",
     "exception": false,
     "start_time": "2024-09-15T14:12:30.881661",
     "status": "completed"
    },
    "tags": []
   },
   "source": [
    "- Building gridsearch by ' Random Forest '"
   ]
  },
  {
   "cell_type": "code",
   "execution_count": 34,
   "id": "e89f6c0c",
   "metadata": {
    "execution": {
     "iopub.execute_input": "2024-09-15T14:12:30.940965Z",
     "iopub.status.busy": "2024-09-15T14:12:30.940577Z",
     "iopub.status.idle": "2024-09-15T14:13:02.500177Z",
     "shell.execute_reply": "2024-09-15T14:13:02.499074Z"
    },
    "papermill": {
     "duration": 31.601816,
     "end_time": "2024-09-15T14:13:02.521803",
     "exception": false,
     "start_time": "2024-09-15T14:12:30.919987",
     "status": "completed"
    },
    "tags": []
   },
   "outputs": [
    {
     "data": {
      "text/html": [
       "<style>#sk-container-id-5 {color: black;background-color: white;}#sk-container-id-5 pre{padding: 0;}#sk-container-id-5 div.sk-toggleable {background-color: white;}#sk-container-id-5 label.sk-toggleable__label {cursor: pointer;display: block;width: 100%;margin-bottom: 0;padding: 0.3em;box-sizing: border-box;text-align: center;}#sk-container-id-5 label.sk-toggleable__label-arrow:before {content: \"▸\";float: left;margin-right: 0.25em;color: #696969;}#sk-container-id-5 label.sk-toggleable__label-arrow:hover:before {color: black;}#sk-container-id-5 div.sk-estimator:hover label.sk-toggleable__label-arrow:before {color: black;}#sk-container-id-5 div.sk-toggleable__content {max-height: 0;max-width: 0;overflow: hidden;text-align: left;background-color: #f0f8ff;}#sk-container-id-5 div.sk-toggleable__content pre {margin: 0.2em;color: black;border-radius: 0.25em;background-color: #f0f8ff;}#sk-container-id-5 input.sk-toggleable__control:checked~div.sk-toggleable__content {max-height: 200px;max-width: 100%;overflow: auto;}#sk-container-id-5 input.sk-toggleable__control:checked~label.sk-toggleable__label-arrow:before {content: \"▾\";}#sk-container-id-5 div.sk-estimator input.sk-toggleable__control:checked~label.sk-toggleable__label {background-color: #d4ebff;}#sk-container-id-5 div.sk-label input.sk-toggleable__control:checked~label.sk-toggleable__label {background-color: #d4ebff;}#sk-container-id-5 input.sk-hidden--visually {border: 0;clip: rect(1px 1px 1px 1px);clip: rect(1px, 1px, 1px, 1px);height: 1px;margin: -1px;overflow: hidden;padding: 0;position: absolute;width: 1px;}#sk-container-id-5 div.sk-estimator {font-family: monospace;background-color: #f0f8ff;border: 1px dotted black;border-radius: 0.25em;box-sizing: border-box;margin-bottom: 0.5em;}#sk-container-id-5 div.sk-estimator:hover {background-color: #d4ebff;}#sk-container-id-5 div.sk-parallel-item::after {content: \"\";width: 100%;border-bottom: 1px solid gray;flex-grow: 1;}#sk-container-id-5 div.sk-label:hover label.sk-toggleable__label {background-color: #d4ebff;}#sk-container-id-5 div.sk-serial::before {content: \"\";position: absolute;border-left: 1px solid gray;box-sizing: border-box;top: 0;bottom: 0;left: 50%;z-index: 0;}#sk-container-id-5 div.sk-serial {display: flex;flex-direction: column;align-items: center;background-color: white;padding-right: 0.2em;padding-left: 0.2em;position: relative;}#sk-container-id-5 div.sk-item {position: relative;z-index: 1;}#sk-container-id-5 div.sk-parallel {display: flex;align-items: stretch;justify-content: center;background-color: white;position: relative;}#sk-container-id-5 div.sk-item::before, #sk-container-id-5 div.sk-parallel-item::before {content: \"\";position: absolute;border-left: 1px solid gray;box-sizing: border-box;top: 0;bottom: 0;left: 50%;z-index: -1;}#sk-container-id-5 div.sk-parallel-item {display: flex;flex-direction: column;z-index: 1;position: relative;background-color: white;}#sk-container-id-5 div.sk-parallel-item:first-child::after {align-self: flex-end;width: 50%;}#sk-container-id-5 div.sk-parallel-item:last-child::after {align-self: flex-start;width: 50%;}#sk-container-id-5 div.sk-parallel-item:only-child::after {width: 0;}#sk-container-id-5 div.sk-dashed-wrapped {border: 1px dashed gray;margin: 0 0.4em 0.5em 0.4em;box-sizing: border-box;padding-bottom: 0.4em;background-color: white;}#sk-container-id-5 div.sk-label label {font-family: monospace;font-weight: bold;display: inline-block;line-height: 1.2em;}#sk-container-id-5 div.sk-label-container {text-align: center;}#sk-container-id-5 div.sk-container {/* jupyter's `normalize.less` sets `[hidden] { display: none; }` but bootstrap.min.css set `[hidden] { display: none !important; }` so we also need the `!important` here to be able to override the default hidden behavior on the sphinx rendered scikit-learn.org. See: https://github.com/scikit-learn/scikit-learn/issues/21755 */display: inline-block !important;position: relative;}#sk-container-id-5 div.sk-text-repr-fallback {display: none;}</style><div id=\"sk-container-id-5\" class=\"sk-top-container\"><div class=\"sk-text-repr-fallback\"><pre>GridSearchCV(cv=5, estimator=RandomForestClassifier(),\n",
       "             param_grid={&#x27;n_estimators&#x27;: [30, 35, 40]})</pre><b>In a Jupyter environment, please rerun this cell to show the HTML representation or trust the notebook. <br />On GitHub, the HTML representation is unable to render, please try loading this page with nbviewer.org.</b></div><div class=\"sk-container\" hidden><div class=\"sk-item sk-dashed-wrapped\"><div class=\"sk-label-container\"><div class=\"sk-label sk-toggleable\"><input class=\"sk-toggleable__control sk-hidden--visually\" id=\"sk-estimator-id-7\" type=\"checkbox\" ><label for=\"sk-estimator-id-7\" class=\"sk-toggleable__label sk-toggleable__label-arrow\">GridSearchCV</label><div class=\"sk-toggleable__content\"><pre>GridSearchCV(cv=5, estimator=RandomForestClassifier(),\n",
       "             param_grid={&#x27;n_estimators&#x27;: [30, 35, 40]})</pre></div></div></div><div class=\"sk-parallel\"><div class=\"sk-parallel-item\"><div class=\"sk-item\"><div class=\"sk-label-container\"><div class=\"sk-label sk-toggleable\"><input class=\"sk-toggleable__control sk-hidden--visually\" id=\"sk-estimator-id-8\" type=\"checkbox\" ><label for=\"sk-estimator-id-8\" class=\"sk-toggleable__label sk-toggleable__label-arrow\">estimator: RandomForestClassifier</label><div class=\"sk-toggleable__content\"><pre>RandomForestClassifier()</pre></div></div></div><div class=\"sk-serial\"><div class=\"sk-item\"><div class=\"sk-estimator sk-toggleable\"><input class=\"sk-toggleable__control sk-hidden--visually\" id=\"sk-estimator-id-9\" type=\"checkbox\" ><label for=\"sk-estimator-id-9\" class=\"sk-toggleable__label sk-toggleable__label-arrow\">RandomForestClassifier</label><div class=\"sk-toggleable__content\"><pre>RandomForestClassifier()</pre></div></div></div></div></div></div></div></div></div></div>"
      ],
      "text/plain": [
       "GridSearchCV(cv=5, estimator=RandomForestClassifier(),\n",
       "             param_grid={'n_estimators': [30, 35, 40]})"
      ]
     },
     "execution_count": 34,
     "metadata": {},
     "output_type": "execute_result"
    }
   ],
   "source": [
    "grid_search = GridSearchCV(\n",
    "    RandomForestClassifier() , \n",
    "    param_grid , cv=5\n",
    ")\n",
    "\n",
    "grid_search.fit(X_train , y_train)"
   ]
  },
  {
   "cell_type": "markdown",
   "id": "eeb9bee5",
   "metadata": {
    "papermill": {
     "duration": 0.019508,
     "end_time": "2024-09-15T14:13:02.560958",
     "exception": false,
     "start_time": "2024-09-15T14:13:02.541450",
     "status": "completed"
    },
    "tags": []
   },
   "source": [
    "- The besst score from this model"
   ]
  },
  {
   "cell_type": "code",
   "execution_count": 35,
   "id": "c891a3b1",
   "metadata": {
    "execution": {
     "iopub.execute_input": "2024-09-15T14:13:02.602303Z",
     "iopub.status.busy": "2024-09-15T14:13:02.601886Z",
     "iopub.status.idle": "2024-09-15T14:13:02.723746Z",
     "shell.execute_reply": "2024-09-15T14:13:02.722723Z"
    },
    "papermill": {
     "duration": 0.145038,
     "end_time": "2024-09-15T14:13:02.725938",
     "exception": false,
     "start_time": "2024-09-15T14:13:02.580900",
     "status": "completed"
    },
    "tags": []
   },
   "outputs": [
    {
     "data": {
      "text/plain": [
       "0.9684867394695788"
      ]
     },
     "execution_count": 35,
     "metadata": {},
     "output_type": "execute_result"
    }
   ],
   "source": [
    "grid_search.score(X_test,y_test)"
   ]
  },
  {
   "cell_type": "markdown",
   "id": "85ae9e35",
   "metadata": {
    "papermill": {
     "duration": 0.019279,
     "end_time": "2024-09-15T14:13:02.764948",
     "exception": false,
     "start_time": "2024-09-15T14:13:02.745669",
     "status": "completed"
    },
    "tags": []
   },
   "source": [
    "- The best number trees was:"
   ]
  },
  {
   "cell_type": "code",
   "execution_count": 36,
   "id": "47cc0964",
   "metadata": {
    "execution": {
     "iopub.execute_input": "2024-09-15T14:13:02.805694Z",
     "iopub.status.busy": "2024-09-15T14:13:02.805291Z",
     "iopub.status.idle": "2024-09-15T14:13:02.811699Z",
     "shell.execute_reply": "2024-09-15T14:13:02.810642Z"
    },
    "papermill": {
     "duration": 0.029607,
     "end_time": "2024-09-15T14:13:02.814008",
     "exception": false,
     "start_time": "2024-09-15T14:13:02.784401",
     "status": "completed"
    },
    "tags": []
   },
   "outputs": [
    {
     "data": {
      "text/plain": [
       "{'n_estimators': 40}"
      ]
     },
     "execution_count": 36,
     "metadata": {},
     "output_type": "execute_result"
    }
   ],
   "source": [
    "grid_search.best_params_"
   ]
  },
  {
   "cell_type": "markdown",
   "id": "0210c026",
   "metadata": {
    "papermill": {
     "duration": 0.019601,
     "end_time": "2024-09-15T14:13:02.854004",
     "exception": false,
     "start_time": "2024-09-15T14:13:02.834403",
     "status": "completed"
    },
    "tags": []
   },
   "source": [
    "- Ranking of trees in our data by quality"
   ]
  },
  {
   "cell_type": "code",
   "execution_count": 37,
   "id": "c0843537",
   "metadata": {
    "execution": {
     "iopub.execute_input": "2024-09-15T14:13:02.895446Z",
     "iopub.status.busy": "2024-09-15T14:13:02.895010Z",
     "iopub.status.idle": "2024-09-15T14:13:02.913621Z",
     "shell.execute_reply": "2024-09-15T14:13:02.912576Z"
    },
    "papermill": {
     "duration": 0.041781,
     "end_time": "2024-09-15T14:13:02.915692",
     "exception": false,
     "start_time": "2024-09-15T14:13:02.873911",
     "status": "completed"
    },
    "tags": []
   },
   "outputs": [
    {
     "data": {
      "text/html": [
       "<div>\n",
       "<style scoped>\n",
       "    .dataframe tbody tr th:only-of-type {\n",
       "        vertical-align: middle;\n",
       "    }\n",
       "\n",
       "    .dataframe tbody tr th {\n",
       "        vertical-align: top;\n",
       "    }\n",
       "\n",
       "    .dataframe thead th {\n",
       "        text-align: right;\n",
       "    }\n",
       "</style>\n",
       "<table border=\"1\" class=\"dataframe\">\n",
       "  <thead>\n",
       "    <tr style=\"text-align: right;\">\n",
       "      <th></th>\n",
       "      <th>mean_fit_time</th>\n",
       "      <th>std_fit_time</th>\n",
       "      <th>mean_score_time</th>\n",
       "      <th>std_score_time</th>\n",
       "      <th>param_n_estimators</th>\n",
       "      <th>params</th>\n",
       "      <th>split0_test_score</th>\n",
       "      <th>split1_test_score</th>\n",
       "      <th>split2_test_score</th>\n",
       "      <th>split3_test_score</th>\n",
       "      <th>split4_test_score</th>\n",
       "      <th>mean_test_score</th>\n",
       "      <th>std_test_score</th>\n",
       "      <th>rank_test_score</th>\n",
       "    </tr>\n",
       "  </thead>\n",
       "  <tbody>\n",
       "    <tr>\n",
       "      <th>0</th>\n",
       "      <td>1.580283</td>\n",
       "      <td>0.017320</td>\n",
       "      <td>0.069243</td>\n",
       "      <td>0.000971</td>\n",
       "      <td>30</td>\n",
       "      <td>{'n_estimators': 30}</td>\n",
       "      <td>0.969254</td>\n",
       "      <td>0.969317</td>\n",
       "      <td>0.968147</td>\n",
       "      <td>0.968862</td>\n",
       "      <td>0.968082</td>\n",
       "      <td>0.968732</td>\n",
       "      <td>0.000529</td>\n",
       "      <td>2</td>\n",
       "    </tr>\n",
       "    <tr>\n",
       "      <th>1</th>\n",
       "      <td>1.838848</td>\n",
       "      <td>0.040742</td>\n",
       "      <td>0.079645</td>\n",
       "      <td>0.001620</td>\n",
       "      <td>35</td>\n",
       "      <td>{'n_estimators': 35}</td>\n",
       "      <td>0.968864</td>\n",
       "      <td>0.968992</td>\n",
       "      <td>0.968797</td>\n",
       "      <td>0.968277</td>\n",
       "      <td>0.967887</td>\n",
       "      <td>0.968563</td>\n",
       "      <td>0.000417</td>\n",
       "      <td>3</td>\n",
       "    </tr>\n",
       "    <tr>\n",
       "      <th>2</th>\n",
       "      <td>2.080566</td>\n",
       "      <td>0.013012</td>\n",
       "      <td>0.090419</td>\n",
       "      <td>0.001147</td>\n",
       "      <td>40</td>\n",
       "      <td>{'n_estimators': 40}</td>\n",
       "      <td>0.968799</td>\n",
       "      <td>0.969252</td>\n",
       "      <td>0.968537</td>\n",
       "      <td>0.969122</td>\n",
       "      <td>0.968342</td>\n",
       "      <td>0.968810</td>\n",
       "      <td>0.000342</td>\n",
       "      <td>1</td>\n",
       "    </tr>\n",
       "  </tbody>\n",
       "</table>\n",
       "</div>"
      ],
      "text/plain": [
       "   mean_fit_time  std_fit_time  mean_score_time  std_score_time  \\\n",
       "0       1.580283      0.017320         0.069243        0.000971   \n",
       "1       1.838848      0.040742         0.079645        0.001620   \n",
       "2       2.080566      0.013012         0.090419        0.001147   \n",
       "\n",
       "  param_n_estimators                params  split0_test_score  \\\n",
       "0                 30  {'n_estimators': 30}           0.969254   \n",
       "1                 35  {'n_estimators': 35}           0.968864   \n",
       "2                 40  {'n_estimators': 40}           0.968799   \n",
       "\n",
       "   split1_test_score  split2_test_score  split3_test_score  split4_test_score  \\\n",
       "0           0.969317           0.968147           0.968862           0.968082   \n",
       "1           0.968992           0.968797           0.968277           0.967887   \n",
       "2           0.969252           0.968537           0.969122           0.968342   \n",
       "\n",
       "   mean_test_score  std_test_score  rank_test_score  \n",
       "0         0.968732        0.000529                2  \n",
       "1         0.968563        0.000417                3  \n",
       "2         0.968810        0.000342                1  "
      ]
     },
     "execution_count": 37,
     "metadata": {},
     "output_type": "execute_result"
    }
   ],
   "source": [
    "pd.DataFrame(grid_search.cv_results_)"
   ]
  },
  {
   "cell_type": "markdown",
   "id": "6194b6ed",
   "metadata": {
    "papermill": {
     "duration": 0.020194,
     "end_time": "2024-09-15T14:13:02.956067",
     "exception": false,
     "start_time": "2024-09-15T14:13:02.935873",
     "status": "completed"
    },
    "tags": []
   },
   "source": [
    "## 15.Summary:\n",
    "- Several machine learning models were built and tested for quality. A method was used to improve them after construction and after evaluating their quality."
   ]
  }
 ],
 "metadata": {
  "kaggle": {
   "accelerator": "none",
   "dataSources": [
    {
     "datasetId": 3102947,
     "sourceId": 5344155,
     "sourceType": "datasetVersion"
    }
   ],
   "dockerImageVersionId": 30761,
   "isGpuEnabled": false,
   "isInternetEnabled": true,
   "language": "python",
   "sourceType": "notebook"
  },
  "kernelspec": {
   "display_name": "Python 3",
   "language": "python",
   "name": "python3"
  },
  "language_info": {
   "codemirror_mode": {
    "name": "ipython",
    "version": 3
   },
   "file_extension": ".py",
   "mimetype": "text/x-python",
   "name": "python",
   "nbconvert_exporter": "python",
   "pygments_lexer": "ipython3",
   "version": "3.10.14"
  },
  "papermill": {
   "default_parameters": {},
   "duration": 83.769523,
   "end_time": "2024-09-15T14:13:03.496047",
   "environment_variables": {},
   "exception": null,
   "input_path": "__notebook__.ipynb",
   "output_path": "__notebook__.ipynb",
   "parameters": {},
   "start_time": "2024-09-15T14:11:39.726524",
   "version": "2.6.0"
  }
 },
 "nbformat": 4,
 "nbformat_minor": 5
}
